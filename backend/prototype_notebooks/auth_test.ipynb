{
 "cells": [
  {
   "metadata": {
    "ExecuteTime": {
     "end_time": "2025-08-03T10:31:11.970187Z",
     "start_time": "2025-08-03T10:31:11.967639Z"
    }
   },
   "cell_type": "code",
   "source": [
    "import re\n",
    "\n",
    "text = \"Hey does this company sell my data is the url: https://github.com/\"\n",
    "pattern = r\"https?:\\/\\/(?:[a-zA-Z0-9-]+\\.)+[a-zA-Z]{2,}\"\n",
    "\n",
    "\n",
    "\n",
    "def extract_email(text):\n",
    "    \"\"\"Extract the url\"\"\"\n",
    "\n",
    "    pattern = r\"https?:\\/\\/(?:[a-zA-Z0-9-]+\\.)+[a-zA-Z]{2,}\"\n",
    "\n",
    "    match = re.search(pattern, text)\n",
    "    if match:\n",
    "        return match.group()\n",
    "\n",
    "    else:\n",
    "        return False\n",
    "\n",
    "d =extract_email(text)\n",
    "\n",
    "\n",
    "url_check = extract_email(text)\n",
    "\n",
    "if   not  url_check:\n",
    "    print(\"true\")\n"
   ],
   "id": "99eb4f50dc1440c",
   "outputs": [],
   "execution_count": 14
  },
  {
   "metadata": {
    "ExecuteTime": {
     "end_time": "2025-07-25T11:42:44.525170Z",
     "start_time": "2025-07-25T11:42:26.770558Z"
    }
   },
   "cell_type": "code",
   "source": [
    "from sklearn.metrics.pairwise import cosine_similarity\n",
    "import html\n",
    "from backend.src.tools.vector_store import VectorStoreManager\n",
    "\n",
    "test = VectorStoreManager()\n",
    "results = test.vectordb_query_chatbot(\"I don't want to share data with github\")\n",
    "\n",
    "def clean_page_content(text):\n",
    "    try:\n",
    "        text = text.encode().decode(\"unicode_escape\")\n",
    "    except:\n",
    "        pass\n",
    "    return html.unescape(text)\n",
    "\n",
    "print(clean_page_content(results[3].page_content))  # Optional preview\n",
    "\n",
    "\n",
    "# Evaluation function\n",
    "def evaluate_retrieval_similarity(self, query: str, results: list):\n",
    "    print(f\"\\n🔍 Evaluating similarity for query: '{query}'\")\n",
    "    query_emb = self.embedding_function.embed_query(query)\n",
    "    doc_embs = [self.embedding_function.embed_query(doc.page_content) for doc in results]\n",
    "\n",
    "    similarities = cosine_similarity([query_emb], doc_embs)[0]\n",
    "    scored_docs = list(zip(results, similarities))\n",
    "\n",
    "    for i, (doc, score) in enumerate(scored_docs):\n",
    "        print(f\"\\nResult {i+1}:\")\n",
    "        print(f\"Score: {score:.3f}\")\n",
    "        print(f\"Preview: {clean_page_content(doc.page_content[:300])}...\\n\")\n",
    "\n",
    "    return scored_docs\n",
    "\n",
    "# Attach the method\n",
    "from types import MethodType\n",
    "test.evaluate_retrieval_similarity = MethodType(evaluate_retrieval_similarity, test)\n",
    "\n",
    "# Evaluate\n",
    "scored = test.evaluate_retrieval_similarity(\"I don't want to share data with github\", results)\n"
   ],
   "id": "66e50c75801fe188",
   "outputs": [
    {
     "name": "stdout",
     "output_type": "stream",
     "text": [
      "Using local credentials.\n"
     ]
    },
    {
     "name": "stderr",
     "output_type": "stream",
     "text": [
      "/Users/mohammedansari/Desktop/clausebit/.venv/lib/python3.13/site-packages/vertexai/_model_garden/_model_garden_models.py:278: UserWarning: This feature is deprecated as of June 24, 2025 and will be removed on June 24, 2026. For details, see https://cloud.google.com/vertex-ai/generative-ai/docs/deprecations/genai-vertexai-sdk.\n",
      "  warning_logs.show_deprecation_warning()\n"
     ]
    },
    {
     "name": "stdout",
     "output_type": "stream",
     "text": [
      "<p>This license does not grant GitHub the right to sell Your Content. It also does not grant GitHub the right to otherwise distribute or use Your Content outside of our provision of the Service, except that as part of the right to archive Your Content, GitHub may permit our partners to store and archive Your Content in public repositories in connection with the <a href=\"https://archiveprogram.github.com/\">GitHub Arctic Code Vault and GitHub Archive Program</a>.</p>\n",
      "<h3 id=\"5-license-grant-to-other-users\" tabindex=\"-1\"><a class=\"heading-link\" href=\"#5-license-grant-to-other-users\">5. License Grant to Other Users<span class=\"heading-link-symbol\" aria-hidden=\"true\"></span></a></h3>\n",
      "<p>Any User-Generated Content you post publicly, including issues, comments, and contributions to other Users' repositories, may be viewed by others. By setting your repositories to be viewed publicly, you agree to allow others to view and \"fork\" your repositories (this means that others may make their own copies of Content from your repositories in repositories they control).</p>\n",
      "<p>If you set your pages and repositories to be viewed publicly, you grant each User of GitHub a nonexclusive, worldwide license to use, display, and perform Your Content through the GitHub Service and to reproduce Your Content solely on GitHub as permitted through GitHub's functionality (for example, through forking). You may grant further rights if you <a href=\"/en/communities/setting-up-your-project-for-healthy-contributions/adding-a-license-to-a-repository#including-an-open-source-license-in-your-repository\">adopt a license</a>. If you are uploading Content you did not create or own, you are responsible for ensuring that the Content you upload is licensed under terms that grant these permissions to other GitHub Users.</p>\n",
      "<h3 id=\"6-contributions-under-repository-license\" tabindex=\"-1\"><a class=\"heading-link\" href=\"#6-contributions-under-repository-license\">6. Contributions Under Repository License<span class=\"heading-link-symbol\" aria-hidden=\"true\"></span></a></h3>\n",
      "<p>Whenever you add Content to a repository containing notice of a license, you license that Content under the same terms, and you agree that you have the right to license that Content under those terms. If you have a separate agreement to license that Content under different terms, such as a contributor license agreement, that agreement will supersede.</p>\n",
      "<p>Isn't this just how it works already? Yep. This is widely accepted as the norm in the open-source community; it's commonly referred to by the shorthand \"inbound=outbound\". We're just making it explicit.</p>\n",
      "<h3 id=\"7-moral-rights\" tabindex=\"-1\"><a class=\"heading-link\" href=\"#7-moral-rights\">7. Moral Rights<span class=\"heading-link-symbol\" aria-hidden=\"true\"></span></a></h3>\n",
      "<p>You retain all moral rights to Your Content that you upload, publish, or submit to any part of the Service, including the rights of integrity and attribution. However, you waive these rights and agree not to assert them against us, to enable us to reasonably exercise the rights granted in Section D.4, but not otherwise.</p>\n",
      "<p>To the extent this agreement is not enforceable by applicable law, you grant GitHub the rights we need to use Your Content without attribution and to make reasonable adaptations of Your Content as necessary to render the Website and provide the Service.</p>\n",
      "<h2 id=\"e-private-repositories\" tabindex=\"-1\"><a class=\"heading-link\" href=\"#e-private-repositories\">E. Private Repositories<span class=\"heading-link-symbol\" aria-hidden=\"true\"></span></a></h2>\n",
      "<p><strong>Short version:</strong> <em>We treat the content of private repositories as confidential, and we only access it as described in our Privacy Statementâfor security purposes, to assist the repository owner with a support matter, to maintain the integrity of the Service, to comply with our legal obligations, if we have reason to believe the contents are in violation of the law, or with your consent.</em></p>\n",
      "<h3 id=\"1-control-of-private-repositories\" tabindex=\"-1\"><a class=\"heading-link\" href=\"#1-control-of-private-repositories\">1. Control of Private Repositories<span class=\"heading-link-symbol\" aria-hidden=\"true\"></span></a></h3>\n",
      "<p>Some Accounts may have private repositories, which allow the User to control access to Content.</p>\n",
      "<h3 id=\"2-confidentiality-of-private-repositories\" tabindex=\"-1\"><a class=\"heading-link\" href=\"#2-confidentiality-of-private-repositories\">2. Confidentiality of Private Repositories<span class=\"heading-link-symbol\" aria-hidden=\"true\"></span></a></h3>\n",
      "<p>GitHub considers the contents of private repositories to be confidential to you. GitHub will protect the contents of private repositories from unauthorized use, access, or disclosure in the same manner that we would use to protect our own confidential information of a similar nature and in no event with less than a reasonable degree of care.</p>\n",
      "\n",
      "🔍 Evaluating similarity for query: 'I don't want to share data with github'\n",
      "\n",
      "Result 1:\n",
      "Score: 0.750\n",
      "Preview: .github.com\"},\"articleContext\":{\"title\":\"GitHub General Privacy Statement\",\"intro\":\"\",\"effectiveDate\":\"\",\"renderedPage\":\"<h2 id=\"github-privacy-statement\" tabindex=\"-1\"><a class=\"heading-link\" href=\"#github-privacy-statement\">GitHub Privacy Statement<span class=\"hea...\n",
      "\n",
      "\n",
      "Result 2:\n",
      "Score: 0.730\n",
      "Preview: <li>Visual Studio Code (GitHub Codespaces): GitHub Codespaces and github.dev offer Visual Studio Code in a web browser, where some telemetry is collected by default. Details on telemetry collection are on the <a href=\"https://code.visualstudio.com/docs/configure/telemetry\">VS Code website</a>. To op...\n",
      "\n",
      "\n",
      "Result 3:\n",
      "Score: 0.713\n",
      "Preview: . We will provide you with the necessary information to submit an appeal at that time.</li>\n",
      "<li>You have the right to opt out of profiling in furtherance of decisions that produce legal or similarly significant effects concerning the consumer. GitHub does not engage in such prof...\n",
      "\n",
      "\n",
      "Result 4:\n",
      "Score: 0.690\n",
      "Preview: <p>This license does not grant GitHub the right to sell Your Content. It also does not grant GitHub the right to otherwise distribute or use Your Content outside of our provision of the Service, except that as part of the right to archive Your Content, GitHub may permit our partners to store and arc...\n",
      "\n",
      "\n",
      "Result 5:\n",
      "Score: 0.666\n",
      "Preview: . Free Accounts are not required to provide payment information.</p>\n",
      "<h2 id=\"l-cancellation-and-termination\" tabindex=\"-1\"><a class=\"heading-link\" href=\"#l-cancellation-and-termination\">L. Cancellation and Termination<span class=\"heading-link-symbol\" ari...\n",
      "\n"
     ]
    }
   ],
   "execution_count": 12
  },
  {
   "metadata": {},
   "cell_type": "code",
   "outputs": [],
   "execution_count": null,
   "source": "",
   "id": "9050f8f685cea6d4"
  },
  {
   "metadata": {
    "ExecuteTime": {
     "end_time": "2025-07-25T11:32:54.385372Z",
     "start_time": "2025-07-25T11:32:54.382278Z"
    }
   },
   "cell_type": "code",
   "source": "result[4].page_content\n",
   "id": "a77c2232aa3128ae",
   "outputs": [
    {
     "data": {
      "text/plain": [
       "'<h4 id=\"how-do-we-and-our-partners-use-cookies-and-similar-technologies\" tabindex=\"-1\"><a class=\"heading-link\" href=\"#how-do-we-and-our-partners-use-cookies-and-similar-technologies\">How do we and our partners use cookies and similar technologies?<span class=\"heading-link-symbol\" aria-hidden=\"true\"></span></a></h4>\\n<p>The GitHub Services use cookies and similar technologies for a variety of purposes, including to store your preferences and settings, enable you to sign-in, analyze how our Services perform, track your interaction with the Services, develop inferences, combat fraud, and fulfill other legitimate purposes. Some of these cookies and technologies may be provided by third parties, including service providers and advertising partners. For example, our analytics and advertising partners may use these technologies in our Services to collect personal information (such as the pages you visit, the links you click on, and similar usage information, identifiers, and device information) related to your online activities over time and across Services for various purposes, including targeted advertising. GitHub will place non-essential cookies on pages where we market products and services to enterprise customers, for example, on resources.github.com.</p>\\n<p>We and/or our partners also share the information we collect or infer with third parties for these purposes.</p>\\n<p>The table below provides additional information about how we use different types of cookies:</p>\\n<table aria-labelledby=\"how-do-we-and-our-partners-use-cookies-and-similar-technologies\"><thead><tr><th align=\"left\" scope=\"col\">Purpose</th><th align=\"left\" scope=\"col\">Description</th></tr></thead><tbody><tr><td align=\"left\">Required Cookies</td><td align=\"left\">GitHub uses required cookies to perform essential website functions and to provide the services. For example, cookies are used to log you in, save your language preferences, provide a shopping cart experience, improve performance, route traffic between web servers, detect the size of your screen, determine page load times, improve user experience, and for audience measurement. These cookies are necessary for our websites to work.</td></tr><tr><td align=\"left\">Analytics</td><td align=\"left\">We allow third parties to use analytics cookies to understand how you use our websites so we can make them better. For example, cookies are used to gather information about the pages you visit and how many clicks you need to accomplish a task. We also use some analytics cookies to provide personalized advertising.</td></tr><tr><td align=\"left\">Social Media</td><td align=\"left\">GitHub and third parties use social media cookies to show you ads and content based on your social media profiles and activity on GitHub’s websites. This ensures that the ads and content you see on our websites and on social media will better reflect your interests. This also enables third parties to develop and improve their products, which they may use on websites that are not owned or operated by GitHub.</td></tr><tr><td align=\"left\">Advertising</td><td align=\"left\">In addition, GitHub and third parties use advertising cookies to show you new ads based on ads you\\'ve already seen. Cookies also track which ads you click or purchases you make after clicking an ad. This is done both for payment purposes and to show you ads that are more relevant to you. For example, cookies are used to detect when you click an ad and to show you ads based on your social media interests and website browsing history.</td></tr></tbody></table>\\n<h4 id=\"what-are-your-cookie-choices-and-controls\" tabindex=\"-1\"><a class=\"heading-link\" href=\"#what-are-your-cookie-choices-and-controls\">What are your cookie choices and controls?<span class=\"heading-link-symbol\" aria-hidden=\"true\"></span></a></h4>\\n<p>You have several options to disable non-essential cookies:</p>\\n<p><strong>Specifically on GitHub Enterprise Marketing Pages</strong></p>\\n<p>Any GitHub page that serves non-essential cookies will have a link in the page’s footer to cookie settings. You can express your preferences at any time by clicking on that linking and updating your settings.</p>\\n<p>Some users will also be able to manage non-essential cookies via a cookie consent banner, including the options to accept, manage, and reject all non-essential cookies.</p>\\n<p><strong>Generally for all websites</strong>\\nYou can control the cookies you encounter on the web using a variety of widely-available tools. For example:</p>\\n<li>If your browser sends a <a href=\"https://en.wikipedia.org/wiki/Do_Not_Track\">Do Not Track</a> (DNT) signal, GitHub will not set non-essential cookies and will not load third party resources which set non-essential cookies.</li>\\n<li>Many browsers provide cookie controls which may limit the types of cookies you encounter online. Check out the documentation for your browser to learn more.</li>'"
      ]
     },
     "execution_count": 7,
     "metadata": {},
     "output_type": "execute_result"
    }
   ],
   "execution_count": 7
  },
  {
   "metadata": {
    "ExecuteTime": {
     "end_time": "2025-07-25T08:15:53.014159Z",
     "start_time": "2025-07-25T08:15:53.011130Z"
    }
   },
   "cell_type": "code",
   "source": [
    "from datetime import datetime, timezone\n",
    "\n",
    "timestamp = datetime.now(timezone.utc).isoformat().replace(\"+00:00\", \"Z\")\n",
    "timestamp"
   ],
   "id": "7cdc3b229bccbf52",
   "outputs": [
    {
     "data": {
      "text/plain": [
       "'2025-07-25T08:15:53.012187Z'"
      ]
     },
     "execution_count": 11,
     "metadata": {},
     "output_type": "execute_result"
    }
   ],
   "execution_count": 11
  },
  {
   "metadata": {
    "ExecuteTime": {
     "end_time": "2025-07-25T10:36:00.949258Z",
     "start_time": "2025-07-25T10:35:42.614490Z"
    }
   },
   "cell_type": "code",
   "source": [
    "from backend.src.tools.webscraper import chunking\n",
    "\n",
    "import asyncio\n",
    "result = asyncio.run(chunking(\"https://github.com/\"))\n",
    "\n"
   ],
   "id": "d15375d574ca8b43",
   "outputs": [
    {
     "name": "stdout",
     "output_type": "stream",
     "text": [
      "Chunking the data!\n",
      "Using local credentials.\n",
      "extracting from {'text': 'Terms', 'href': 'https://docs.github.com/site-policy/github-terms/github-terms-of-service'}\n",
      "✅ Playwright succeeded, so this is not the issue\n",
      "extracting from {'text': 'Privacy', 'href': 'https://docs.github.com/site-policy/privacy-policies/github-privacy-statement'}\n",
      "✅ Playwright succeeded, so this is not the issue\n",
      "done\n",
      "generating the metadata tags with con \n"
     ]
    }
   ],
   "execution_count": 1
  },
  {
   "metadata": {
    "ExecuteTime": {
     "end_time": "2025-07-25T10:36:53.565834Z",
     "start_time": "2025-07-25T10:36:53.563292Z"
    }
   },
   "cell_type": "code",
   "source": "result[2].metadata",
   "id": "29359c6f869f142b",
   "outputs": [
    {
     "data": {
      "text/plain": [
       "{'source_url': 'https://github.com/',\n",
       " 'domain': 'https://github.com/',\n",
       " 'scrape_date': '2025-07-25T10:35:55.506460Z',\n",
       " 'language': 'en',\n",
       " 'policy_type': 'terms_of_service',\n",
       " 'section_title': 'Definitions',\n",
       " 'summary': 'This section defines key terms used throughout the terms of service, such as \"Account\" and \"Organizations\".',\n",
       " 'categories': 'definitions',\n",
       " 'user_impact_level': 'low'}"
      ]
     },
     "execution_count": 3,
     "metadata": {},
     "output_type": "execute_result"
    }
   ],
   "execution_count": 3
  },
  {
   "metadata": {
    "ExecuteTime": {
     "end_time": "2025-07-25T03:29:12.160263Z",
     "start_time": "2025-07-25T03:28:41.907549Z"
    }
   },
   "cell_type": "code",
   "source": [
    "\n",
    "from backend.src.tools.webscraper import process_company_policies\n",
    "\n",
    "url = \"https://github.com/\"\n",
    "results = await process_company_policies(\"https://github.com\")\n"
   ],
   "id": "55ff18eccfbce906",
   "outputs": [
    {
     "name": "stdout",
     "output_type": "stream",
     "text": [
      "Using local credentials.\n",
      " Full page text extracted and saved.\n",
      " Full page text extracted and saved.\n",
      " Full page text extracted and saved.\n"
     ]
    }
   ],
   "execution_count": 1
  },
  {
   "metadata": {
    "ExecuteTime": {
     "end_time": "2025-07-25T10:03:22.135085Z",
     "start_time": "2025-07-25T10:03:22.060013Z"
    }
   },
   "cell_type": "code",
   "source": [
    "import  os\n",
    "base_dir = os.path.abspath(\n",
    "            os.path.join(os.path.dirname(__file__), \"..\", \"data_warehouse\")\n",
    "        )\n",
    "base_dir"
   ],
   "id": "78d19979046b1d03",
   "outputs": [
    {
     "ename": "NameError",
     "evalue": "name '__file__' is not defined",
     "output_type": "error",
     "traceback": [
      "\u001B[31m---------------------------------------------------------------------------\u001B[39m",
      "\u001B[31mNameError\u001B[39m                                 Traceback (most recent call last)",
      "\u001B[36mCell\u001B[39m\u001B[36m \u001B[39m\u001B[32mIn[7]\u001B[39m\u001B[32m, line 3\u001B[39m\n\u001B[32m      1\u001B[39m \u001B[38;5;28;01mimport\u001B[39;00m\u001B[38;5;250m  \u001B[39m\u001B[34;01mos\u001B[39;00m\n\u001B[32m      2\u001B[39m base_dir = os.path.abspath(\n\u001B[32m----> \u001B[39m\u001B[32m3\u001B[39m             os.path.join(os.path.dirname(\u001B[34;43m__file__\u001B[39;49m), \u001B[33m\"\u001B[39m\u001B[33m..\u001B[39m\u001B[33m\"\u001B[39m, \u001B[33m\"\u001B[39m\u001B[33mdata_warehouse\u001B[39m\u001B[33m\"\u001B[39m)\n\u001B[32m      4\u001B[39m         )\n\u001B[32m      5\u001B[39m base_dir\n",
      "\u001B[31mNameError\u001B[39m: name '__file__' is not defined"
     ]
    }
   ],
   "execution_count": 7
  },
  {
   "metadata": {
    "ExecuteTime": {
     "end_time": "2025-07-25T03:04:10.436418Z",
     "start_time": "2025-07-25T03:04:10.433413Z"
    }
   },
   "cell_type": "code",
   "source": [
    "\n",
    "\n",
    "def clean_policy_text(text: str) -> str:\n",
    "    # Remove duplicated navigation and menu content\n",
    "    lines = text.splitlines()\n",
    "\n",
    "    # Remove lines that are too short or very generic UI strings\n",
    "    lines = [line.strip() for line in lines if len(line.strip()) > 20 and not re.match(r'^(Search|Sign up|Open menu|GitHub Docs|Copilot|Home|Site policy|Version)', line)]\n",
    "\n",
    "    # Collapse back into cleaned text\n",
    "    cleaned_text = \"\\n\".join(lines)\n",
    "\n",
    "    # Optional: find first real section\n",
    "    match = re.search(r'(A\\. Definitions|Effective date:)', cleaned_text)\n",
    "    if match:\n",
    "        cleaned_text = cleaned_text[match.start():]\n",
    "\n",
    "\n",
    "    return cleaned_text\n"
   ],
   "id": "3eafc3da4a7426bb",
   "outputs": [],
   "execution_count": 3
  },
  {
   "metadata": {
    "ExecuteTime": {
     "end_time": "2025-07-25T03:19:54.233013Z",
     "start_time": "2025-07-25T03:19:54.228893Z"
    }
   },
   "cell_type": "code",
   "source": [
    " t = [clean_policy_text(page[\"content\"]) for page in results]\n",
    " len(t)"
   ],
   "id": "dbefe5338ab51402",
   "outputs": [
    {
     "data": {
      "text/plain": [
       "3"
      ]
     },
     "execution_count": 18,
     "metadata": {},
     "output_type": "execute_result"
    }
   ],
   "execution_count": 18
  },
  {
   "metadata": {
    "ExecuteTime": {
     "end_time": "2025-07-25T03:04:53.935562Z",
     "start_time": "2025-07-25T03:04:53.932062Z"
    }
   },
   "cell_type": "code",
   "source": [
    "from langchain_text_splitters import RecursiveCharacterTextSplitter\n",
    "\n",
    "text_splitter = RecursiveCharacterTextSplitter(\n",
    "    chunk_size=3000,\n",
    "    chunk_overlap=100,\n",
    "    separators=[\"\\n\\n\", \"\\n\", \".\", \" \"]\n",
    ")\n",
    "\n",
    "\n",
    "t =clean_policy_text(results[0][\"content\"])\n",
    "\n",
    "# Wrap the content and metadata in lists\n",
    "chunks = text_splitter.create_documents(\n",
    "    texts=[t],\n",
    "    metadatas=None\n",
    ")\n",
    "\n",
    "\n",
    "chunks[4].metadata\n",
    "\n"
   ],
   "id": "e01c9f6fc1146c54",
   "outputs": [
    {
     "data": {
      "text/plain": [
       "{}"
      ]
     },
     "execution_count": 5,
     "metadata": {},
     "output_type": "execute_result"
    }
   ],
   "execution_count": 5
  },
  {
   "metadata": {
    "ExecuteTime": {
     "end_time": "2025-07-25T03:04:59.789306Z",
     "start_time": "2025-07-25T03:04:59.786517Z"
    }
   },
   "cell_type": "code",
   "source": "chunks[0].page_content",
   "id": "bd79ab8b0a6ae9d9",
   "outputs": [
    {
     "data": {
      "text/plain": [
       "'Effective date: November 16, 2020\\nWe use these basic terms throughout the agreement, and they have specific meanings. You should know what we mean when we use each of the terms. There\\'s not going to be a test on it, but it\\'s still useful information.\\nAn \"Account\" represents your legal relationship with GitHub. A “Personal Account” represents an individual User’s authorization to log in to and use the Service and serves as a User’s identity on GitHub. “Organizations” are shared workspaces that may be associated with a single entity or with one or more Users where multiple Users can collaborate across many projects at once. A Personal Account can be a member of any number of Organizations.\\nThe “Agreement” refers, collectively, to all the terms, conditions, notices contained or referenced in this document (the “Terms of Service” or the \"Terms\") and all other operating rules, policies (including the GitHub Privacy Statement, available at\\ngithub.com/site/privacy\\n) and procedures that we may publish from time to time on the Website. Most of our site policies are available at\\ndocs.github.com/categories/site-policy\\n\"Beta Previews\" mean software, services, or features identified as alpha, beta, preview, early access, or evaluation, or words or phrases with similar meanings.\\n“Content” refers to content featured or displayed through the Website, including without limitation code, text, data, articles, images, photographs, graphics, software, applications, packages, designs, features, and other materials that are available on the Website or otherwise available through the Service. \"Content\" also includes Services. “User-Generated Content” is Content, written or otherwise, created or uploaded by our Users. \"Your Content\" is Content that you create or own.\\n“GitHub,” “We,” and “Us” refer to GitHub, Inc., as well as our affiliates, directors, subsidiaries, contractors, licensors, officers, agents, and employees.\\nThe “Service” refers to the applications, software, products, and services provided by GitHub, including any Beta Previews.\\n“The User,” “You,” and “Your” refer to the individual person, company, or organization that has visited or is using the Website or Service; that accesses or uses any part of the Account; or that directs the use of the Account in the performance of its functions. A User must be at least 13 years of age. Special terms may apply for business or government Accounts (See\\nSection B(5): Additional Terms\\nThe “Website” refers to GitHub’s website located at\\n, and all content, services, and products provided by GitHub at or through the Website. It also refers to GitHub-owned subdomains of github.com, such as\\n. These Terms also govern GitHub’s conference websites, such as\\n, and product websites, such as\\n. Occasionally, websites owned by GitHub may provide different or additional terms of service. If those additional terms conflict with this Agreement, the more specific terms apply to the relevant page or service.'"
      ]
     },
     "execution_count": 6,
     "metadata": {},
     "output_type": "execute_result"
    }
   ],
   "execution_count": 6
  },
  {
   "metadata": {
    "ExecuteTime": {
     "end_time": "2025-07-25T03:07:22.277961Z",
     "start_time": "2025-07-25T03:07:00.144533Z"
    }
   },
   "cell_type": "code",
   "source": [
    "from langchain_core.output_parsers import JsonOutputParser\n",
    "from langchain_core.prompts import ChatPromptTemplate\n",
    "from langchain_google_vertexai import ChatVertexAI\n",
    "\n",
    "llm = ChatVertexAI(\n",
    "    model=\"gemini-2.0-flash-lite\",\n",
    "    temperature=0.8,\n",
    "    max_output_tokens= 8000\n",
    ")\n",
    "\n",
    "\n",
    "parser = JsonOutputParser()\n",
    "\n",
    "prompt = ChatPromptTemplate.from_messages([\n",
    "    (\"system\", '''You are a policy analyzer that generates structured metadata for pre-chunked legal content (e.g., Terms of Service, Privacy Policies). Your output will be used for semantic retrieval, privacy risk detection, and clause-level reasoning in downstream AI applications.'''),\n",
    "\n",
    "    (\"human\", '''Given the following policy text, generate a **JSON object** that includes structured metadata fields.\n",
    "\n",
    "Use this schema:\n",
    "- \"source_url\": The original URL of the policy.\n",
    "- \"domain\": Detected company domain from the URL.\n",
    "- \"scrape_date\": \"2025-07-22T22:08:00Z\"\n",
    "- \"language\": The detected language (e.g., \"en\").\n",
    "- \"policy_type\": One of: \"privacy_policy\", \"terms_of_service\", \"cookie_policy\", \"acceptable_use\", \"other\"\n",
    "- \"risk_tags\": List of detected privacy or legal risks (e.g., \"data_sharing\", \"location_tracking\", etc.)\n",
    "- \"section_title\": Descriptive title for this chunk. If none is found, infer one.\n",
    "- \"summary\": A 1–2 sentence plain-English summary of what the chunk means.\n",
    "- \"categories\": List of high-level topics (e.g., \"data_collection\", \"user_rights\", etc.)\n",
    "- \"user_impact_level\": One of \"low\", \"medium\", or \"high\" based on how much the policy affects the user's rights or data.\n",
    "- \"version\": Policy version if found (e.g., \"v2.3\")\n",
    "\n",
    "Return **only one JSON object**. No markdown, no code formatting, and no extra explanation.\n",
    "\n",
    "Policy Text:\n",
    "\"\"\"\n",
    "{data}\n",
    "\"\"\"\n",
    "''')\n",
    "])\n",
    "\n",
    "\n",
    "def enrich_metadata(chunk):\n",
    "\n",
    "    base_chain = prompt|llm|JsonOutputParser()\n",
    "\n",
    "    response = base_chain.invoke({\"data\":chunk.page_content})  # properly passes full message list to\n",
    "\n",
    "    chunk.metadata = response\n",
    "\n",
    "\n",
    "\n",
    "# Apply enrichment to all chunks\n",
    "enriched_chunks = [enrich_metadata(chunk) for chunk in chunks]\n"
   ],
   "id": "a6099c799f1700a2",
   "outputs": [],
   "execution_count": 12
  },
  {
   "metadata": {
    "ExecuteTime": {
     "end_time": "2025-07-25T03:07:45.041993Z",
     "start_time": "2025-07-25T03:07:45.039754Z"
    }
   },
   "cell_type": "code",
   "source": "chunks[3].metadata",
   "id": "544a341c8b08bb19",
   "outputs": [
    {
     "data": {
      "text/plain": [
       "{'source_url': None,\n",
       " 'domain': None,\n",
       " 'scrape_date': '2025-07-22T22:08:00Z',\n",
       " 'language': 'en',\n",
       " 'policy_type': 'acceptable_use',\n",
       " 'risk_tags': ['content_removal',\n",
       "  'user_generated_content',\n",
       "  'copyright_infringement'],\n",
       " 'section_title': 'Acceptable Use and User-Generated Content',\n",
       " 'summary': \"Users are responsible for their content and must comply with laws and GitHub's policies. GitHub can remove content and close accounts that violate these terms, and users grant GitHub and other users necessary permissions to display and share the content.\",\n",
       " 'categories': ['acceptable_use',\n",
       "  'user_generated_content',\n",
       "  'content_ownership',\n",
       "  'licensing'],\n",
       " 'user_impact_level': 'medium',\n",
       " 'version': None}"
      ]
     },
     "execution_count": 14,
     "metadata": {},
     "output_type": "execute_result"
    }
   ],
   "execution_count": 14
  },
  {
   "metadata": {
    "ExecuteTime": {
     "end_time": "2025-07-25T02:00:38.945309Z",
     "start_time": "2025-07-25T02:00:14.665779Z"
    }
   },
   "cell_type": "code",
   "source": [
    "from langchain_core.output_parsers import StrOutputParser\n",
    "from langchain_google_vertexai import ChatVertexAI\n",
    "\n",
    "llm = ChatVertexAI(\n",
    "    model=\"gemini-2.0-flash-lite\",\n",
    "    temperature=0.8,\n",
    "    max_output_tokens= 8000\n",
    ")\n",
    "\n",
    "from langchain_core.prompts import ChatPromptTemplate\n",
    "\n",
    "prompt = ChatPromptTemplate.from_messages([\n",
    "    (\n",
    "        \"system\",\n",
    "        \"\"\"\n",
    "You are a legal document enhancer. Your job is to take a raw policy document (with partial metadata and full content) and return one or more enhanced chunks, each with completed metadata fields.\n",
    "\n",
    "Each chunk must:\n",
    "- A section of the policy as structured in input data, section a makes sense  its own\n",
    "- Be semantically meaningful (e.g., a section or group of related paragraphs)\n",
    "- Fill in all missing or placeholder metadata fields using the content\n",
    "\n",
    "⚠️ Output must be a valid JSON **array of objects** — no markdown, no commentary.\n",
    "\n",
    "Use the following structure:\n",
    "[\n",
    "  {{\n",
    "    \"content\": \"...\",\n",
    "    \"metadata\": {{\n",
    "      \"text\": \"...\",\n",
    "      \"source_url\": \"...\",\n",
    "      \"domain\": \"detect company name \",\n",
    "      \"scrape_date\": \"...\",\n",
    "      \"language\": \"The detected language (e.g., 'en')\",\n",
    "      \"policy_type\": \"One of: 'privacy_policy', 'terms_of_service', 'cookie_policy', 'acceptable_use', 'other'\",\n",
    "      \"risk_tags\": [\"...\"],  // e.g., 'data_sharing', 'location_tracking'\n",
    "      \"section_title\": \"Descriptive title or heading for this chunk (or infer one)\",\n",
    "      \"summary\": \"1–2 sentence plain-English summary of this chunk\",\n",
    "      \"categories\": [\"...\"],  // e.g., 'data_collection', 'user_rights'\n",
    "      \"user_impact_level\": \"low\", \"medium\", or \"high\",\n",
    "      \"clauses\": [{{\"title\": \"...\", \"clause\": \"...\"}}],  // Key legal clauses if applicable\n",
    "      \"version\": \"Policy version if available (e.g., 'v2.3')\"\n",
    "    }}\n",
    "  }},\n",
    "  ...\n",
    "]\n",
    "        \"\"\".strip()\n",
    "    ),\n",
    "    (\n",
    "        \"human\",\n",
    "        \"\"\"\n",
    "Here is a policy document (including its metadata and full content). Return 1 or more enhanced JSON chunks with completed metadata fields:\n",
    "\n",
    "{{document}}\n",
    "        \"\"\".strip()\n",
    "    )\n",
    "])\n",
    "\n",
    "base_chain = prompt|llm|StrOutputParser()\n",
    "\n",
    "\n",
    "\n",
    "output = base_chain.invoke({\"document\": results[0]})\n",
    "output\n"
   ],
   "id": "f1290b1e1ed0b2ad",
   "outputs": [
    {
     "data": {
      "text/plain": [
       "'```json\\n[\\n  {\\n    \"content\": \"At The Honest Company, we are committed to protecting your privacy. This Privacy Policy explains how we collect, use, and disclose information about you when you use our websites, mobile applications, and other online products and services (collectively, the “Services”) or when you otherwise interact with us. \\\\n\\\\nWe may change this Privacy Policy from time to time. If we make changes, we will notify you by revising the date at the top of this policy and, in some cases, we may provide you with additional notice (such as adding a statement to our website or sending you a notification). We encourage you to review the Privacy Policy whenever you access the Services or otherwise interact with us to stay informed about our information practices and the ways you can help protect your privacy.\\\\n\\\\nBy accessing or using the Services, you agree to the terms and conditions of this Privacy Policy.\",\\n    \"metadata\": {\\n      \"text\": \"At The Honest Company, we are committed to protecting your privacy. This Privacy Policy explains how we collect, use, and disclose information about you when you use our websites, mobile applications, and other online products and services (collectively, the “Services”) or when you otherwise interact with us. \\\\n\\\\nWe may change this Privacy Policy from time to time. If we make changes, we will notify you by revising the date at the top of this policy and, in some cases, we may provide you with additional notice (such as adding a statement to our website or sending you a notification). We encourage you to review the Privacy Policy whenever you access the Services or otherwise interact with us to stay informed about our information practices and the ways you can help protect your privacy.\\\\n\\\\nBy accessing or using the Services, you agree to the terms and conditions of this Privacy Policy.\",\\n      \"source_url\": null,\\n      \"domain\": \"The Honest Company\",\\n      \"scrape_date\": null,\\n      \"language\": \"en\",\\n      \"policy_type\": \"privacy_policy\",\\n      \"risk_tags\": [],\\n      \"section_title\": \"Introduction and Policy Updates\",\\n      \"summary\": \"This Privacy Policy from The Honest Company outlines how they collect, use, and disclose information. The policy may be updated, and users are encouraged to review it regularly.\",\\n      \"categories\": [\\n        \"general information\",\\n        \"policy updates\"\\n      ],\\n      \"user_impact_level\": \"low\",\\n      \"clauses\": [],\\n      \"version\": null\\n    }\\n  },\\n  {\\n    \"content\": \"Information You Provide to Us\\\\n\\\\nWe collect information you provide directly to us. For example, we collect information when you create an account, participate in any interactive features of the Services, fill out a form, request customer support, or otherwise communicate with us. The types of information we may collect include your name, email address, postal address, phone number, credit card information, and any other information you choose to provide.\",\\n    \"metadata\": {\\n      \"text\": \"Information You Provide to Us\\\\n\\\\nWe collect information you provide directly to us. For example, we collect information when you create an account, participate in any interactive features of the Services, fill out a form, request customer support, or otherwise communicate with us. The types of information we may collect include your name, email address, postal address, phone number, credit card information, and any other information you choose to provide.\",\\n      \"source_url\": null,\\n      \"domain\": \"The Honest Company\",\\n      \"scrape_date\": null,\\n      \"language\": \"en\",\\n      \"policy_type\": \"privacy_policy\",\\n      \"risk_tags\": [\\n        \"data_collection\"\\n      ],\\n      \"section_title\": \"Information Collection: Directly Provided Information\",\\n      \"summary\": \"The Honest Company collects information directly from users, such as name, email, and payment details, when they create an account, use interactive features, or communicate with customer support.\",\\n      \"categories\": [\\n        \"data_collection\",\\n        \"user account\"\\n      ],\\n      \"user_impact_level\": \"medium\",\\n      \"clauses\": [],\\n      \"version\": null\\n    }\\n  },\\n  {\\n    \"content\": \"Information We Collect Automatically\\\\n\\\\nWhen you access or use our Services, we automatically collect information about you, including:\\\\n\\\\n    Log Information: We collect log information about your use of the Services, including the type of browser you use, access times, pages viewed, your IP address, and the page you visited before navigating to our Services.\\\\n    Device Information: We collect information about the device you use to access our Services, including the hardware model, operating system and version, unique device identifiers, and mobile network information.\\\\n    Location Information: We may collect information about your location when you access or use our Services. For example, we may collect the precise location of your device if you enable location services through your device settings or with your consent. We may also collect the approximate location of your device based on your IP address. \\\\n    Information Collected by Cookies and Other Tracking Technologies: We use cookies and other tracking technologies, such as web beacons, to collect information about you. For more information, please see our Cookie Policy.\",\\n    \"metadata\": {\\n      \"text\": \"Information We Collect Automatically\\\\n\\\\nWhen you access or use our Services, we automatically collect information about you, including:\\\\n\\\\n    Log Information: We collect log information about your use of the Services, including the type of browser you use, access times, pages viewed, your IP address, and the page you visited before navigating to our Services.\\\\n    Device Information: We collect information about the device you use to access our Services, including the hardware model, operating system and version, unique device identifiers, and mobile network information.\\\\n    Location Information: We may collect information about your location when you access or use our Services. For example, we may collect the precise location of your device if you enable location services through your device settings or with your consent. We may also collect the approximate location of your device based on your IP address. \\\\n    Information Collected by Cookies and Other Tracking Technologies: We use cookies and other tracking technologies, such as web beacons, to collect information about you. For more information, please see our Cookie Policy.\",\\n      \"source_url\": null,\\n      \"domain\": \"The Honest Company\",\\n      \"scrape_date\": null,\\n      \"language\": \"en\",\\n      \"policy_type\": \"privacy_policy\",\\n      \"risk_tags\": [\\n        \"location_tracking\",\\n        \"data_collection\"\\n      ],\\n      \"section_title\": \"Information Collection: Automatic Collection\",\\n      \"summary\": \"The Honest Company automatically collects information such as log data, device information, location data, and information through cookies and tracking technologies when users access or use their services.\",\\n      \"categories\": [\\n        \"data_collection\",\\n        \"tracking\"\\n      ],\\n      \"user_impact_level\": \"medium\",\\n      \"clauses\": [],\\n      \"version\": null\\n    }\\n  },\\n  {\\n    \"content\": \"Information We Collect From Other Sources\\\\n\\\\nWe may also obtain information from other sources. For example, if you create or log into your account through a social media service, we may have access to certain information from that service, such as your name, profile picture, and friends list, in accordance with the authorization procedures determined by such social media service. We may also receive information about you from other sources, including our business partners and third parties.\",\\n    \"metadata\": {\\n      \"text\": \"Information We Collect From Other Sources\\\\n\\\\nWe may also obtain information from other sources. For example, if you create or log into your account through a social media service, we may have access to certain information from that service, such as your name, profile picture, and friends list, in accordance with the authorization procedures determined by such social media service. We may also receive information about you from other sources, including our business partners and third parties.\",\\n      \"source_url\": null,\\n      \"domain\": \"The Honest Company\",\\n      \"scrape_date\": null,\\n      \"language\": \"en\",\\n      \"policy_type\": \"privacy_policy\",\\n      \"risk_tags\": [\\n        \"data_sharing\"\\n      ],\\n      \"section_title\": \"Information Collection: From Other Sources\",\\n      \"summary\": \"The Honest Company may gather information from other sources, including social media services (with user authorization) and third-party partners.\",\\n      \"categories\": [\\n        \"data_collection\",\\n        \"third parties\"\\n      ],\\n      \"user_impact_level\": \"medium\",\\n      \"clauses\": [],\\n      \"version\": null\\n    }\\n  },\\n  {\\n    \"content\": \"Use of Information\\\\n\\\\nWe may use the information we collect about you for various purposes, including:\\\\n\\\\n    Provide, maintain, and improve the Services;\\\\n    Provide and deliver the products and services you request, process transactions, and send you related information, including confirmations and invoices;\\\\n    Send you technical notices, updates, security alerts, and support and administrative messages;\\\\n    Respond to your comments and questions and provide customer service;\\\\n    Communicate with you about products, services, offers, promotions, rewards, and events offered by The Honest Company and others, and provide news and information we think will be of interest to you;\\\\n    Personalize your experience on the Services;\\\\n    Monitor and analyze trends, usage, and activities in connection with our Services;\\\\n    Detect, investigate and prevent fraudulent transactions and other illegal activities and protect the rights and property of The Honest Company and others;\\\\n    Link or combine with information we get from other sources to help understand your needs and provide you with better service;\\\\n    Enforce our Terms of Use; and\\\\n    Carry out any other purpose described to you at the time the information was collected.\",\\n    \"metadata\": {\\n      \"text\": \"Use of Information\\\\n\\\\nWe may use the information we collect about you for various purposes, including:\\\\n\\\\n    Provide, maintain, and improve the Services;\\\\n    Provide and deliver the products and services you request, process transactions, and send you related information, including confirmations and invoices;\\\\n    Send you technical notices, updates, security alerts, and support and administrative messages;\\\\n    Respond to your comments and questions and provide customer service;\\\\n    Communicate with you about products, services, offers, promotions, rewards, and events offered by The Honest Company and others, and provide news and information we think will be of interest to you;\\\\n    Personalize your experience on the Services;\\\\n    Monitor and analyze trends, usage, and activities in connection with our Services;\\\\n    Detect, investigate and prevent fraudulent transactions and other illegal activities and protect the rights and property of The Honest Company and others;\\\\n    Link or combine with information we get from other sources to help understand your needs and provide you with better service;\\\\n    Enforce our Terms of Use; and\\\\n    Carry out any other purpose described to you at the time the information was collected.\",\\n      \"source_url\": null,\\n      \"domain\": \"The Honest Company\",\\n      \"scrape_date\": null,\\n      \"language\": \"en\",\\n      \"policy_type\": \"privacy_policy\",\\n      \"risk_tags\": [\\n        \"data_sharing\"\\n      ],\\n      \"section_title\": \"Use of Information\",\\n      \"summary\": \"The Honest Company uses collected information to provide services, process transactions, communicate with users, personalize experiences, analyze trends, prevent fraud, and for other specified purposes.\",\\n      \"categories\": [\\n        \"data use\",\\n        \"marketing\"\\n      ],\\n      \"user_impact_level\": \"medium\",\\n      \"clauses\": [],\\n      \"version\": null\\n    }\\n  },\\n  {\\n    \"content\": \"Sharing of Information\\\\n\\\\nWe may share information about you as follows:\\\\n\\\\n    With vendors, consultants, and other service providers who need access to such information to carry out work on our behalf;\\\\n    In response to a request for information if we believe disclosure is in accordance with, or required by, any applicable law, regulation, or legal process;\\\\n    If we believe your actions are inconsistent with our user agreements or policies, or to protect the rights, property, and safety of The Honest Company or others;\\\\n    In connection with, or during negotiations of, any merger, sale of company assets, financing, or acquisition of all or a portion of our business by another company;\\\\n    Between and among The Honest Company and its current and future parents, affiliates, subsidiaries, and other companies under common control and ownership;\\\\n    With your consent or at your direction; and\\\\n    Aggregated and de-identified information that cannot reasonably be used to identify you.\",\\n    \"metadata\": {\\n      \"text\": \"Sharing of Information\\\\n\\\\nWe may share information about you as follows:\\\\n\\\\n    With vendors, consultants, and other service providers who need access to such information to carry out work on our behalf;\\\\n    In response to a request for information if we believe disclosure is in accordance with, or required by, any applicable law, regulation, or legal process;\\\\n    If we believe your actions are inconsistent with our user agreements or policies, or to protect the rights, property, and safety of The Honest Company or others;\\\\n    In connection with, or during negotiations of, any merger, sale of company assets, financing, or acquisition of all or a portion of our business by another company;\\\\n    Between and among The Honest Company and its current and future parents, affiliates, subsidiaries, and other companies under common control and ownership;\\\\n    With your consent or at your direction; and\\\\n    Aggregated and de-identified information that cannot reasonably be used to identify you.\",\\n      \"source_url\": null,\\n      \"domain\": \"The Honest Company\",\\n      \"scrape_date\": null,\\n      \"language\": \"en\",\\n      \"policy_type\": \"privacy_policy\",\\n      \"risk_tags\": [\\n        \"data_sharing\",\\n        \"third parties\"\\n      ],\\n      \"section_title\": \"Sharing of Information\",\\n      \"summary\": \"The Honest Company shares user information with vendors, service providers, legal entities (if required), in cases of mergers/acquisitions, within its corporate family, and with user consent, as well as aggregated and de-identified data.\",\\n      \"categories\": [\\n        \"data sharing\",\\n        \"third parties\"\\n      ],\\n      \"user_impact_level\": \"high\",\\n      \"clauses\": [],\\n      \"version\": null\\n    }\\n  },\\n  {\\n    \"content\": \"Advertising and Analytics Services Provided by Others\\\\n\\\\nWe may allow others to provide analytics services and serve advertisements on our behalf across the web and in mobile apps. These entities may use cookies, web beacons, device identifiers, and other technologies to collect information about your use of the Services and other websites and apps, including your IP address, web browser, pages viewed, time spent on pages, links clicked, and conversion information. This information may be used by The Honest Company and others to, among other things, analyze and track data, determine the popularity of certain content, deliver advertising and content targeted to your interests on our Services and other websites and apps, and better understand your online activity.\",\\n    \"metadata\": {\\n      \"text\": \"Advertising and Analytics Services Provided by Others\\\\n\\\\nWe may allow others to provide analytics services and serve advertisements on our behalf across the web and in mobile apps. These entities may use cookies, web beacons, device identifiers, and other technologies to collect information about your use of the Services and other websites and apps, including your IP address, web browser, pages viewed, time spent on pages, links clicked, and conversion information. This information may be used by The Honest Company and others to, among other things, analyze and track data, determine the popularity of certain content, deliver advertising and content targeted to your interests on our Services and other websites and apps, and better understand your online activity.\",\\n      \"source_url\": null,\\n      \"domain\": \"The Honest Company\",\\n      \"scrape_date\": null,\\n      \"language\": \"en\",\\n      \"policy_type\": \"privacy_policy\",\\n      \"risk_tags\": [\\n        \"data_sharing\",\\n        \"tracking\",\\n        \"advertising\"\\n      ],\\n      \"section_title\": \"Advertising and Analytics\",\\n      \"summary\": \"The Honest Company utilizes third-party analytics and advertising services that collect data using cookies and other technologies to personalize ads and understand user activity on the services and across the web.\",\\n      \"categories\": [\\n        \"advertising\",\\n        \"tracking\",\\n        \"third parties\"\\n      ],\\n      \"user_impact_level\": \"high\",\\n      \"clauses\": [],\\n      \"version\": null\\n    }\\n  },\\n  {\\n    \"content\": \"Your Choices\\\\n\\\\nAccount Information. You may update or correct information about yourself at any time by logging into your account or by emailing us at [email protected] If you wish to deactivate your account, please email us at [email protected], but note that we may retain certain information as required by law or for legitimate business purposes.\\\\n\\\\nPromotional Communications. You may opt out of receiving promotional emails from The Honest Company by following the instructions in those emails. If you opt out, we may still send you non-promotional emails, such as those about your account or our ongoing business relations.\",\\n    \"metadata\": {\\n      \"text\": \"Your Choices\\\\n\\\\nAccount Information. You may update or correct information about yourself at any time by logging into your account or by emailing us at [email protected] If you wish to deactivate your account, please email us at [email protected], but note that we may retain certain information as required by law or for legitimate business purposes.\\\\n\\\\nPromotional Communications. You may opt out of receiving promotional emails from The Honest Company by following the instructions in those emails. If you opt out, we may still send you non-promotional emails, such as those about your account or our ongoing business relations.\",\\n      \"source_url\": null,\\n      \"domain\": \"The Honest Company\",\\n      \"scrape_date\": null,\\n      \"language\": \"en\",\\n      \"policy_type\": \"privacy_policy\",\\n      \"risk_tags\": [],\\n      \"section_title\": \"Your Choices\",\\n      \"summary\": \"Users can update/correct their account information and deactivate their accounts by contacting The Honest Company. Users can also opt-out of promotional emails, but non-promotional emails will still be sent.\",\\n      \"categories\": [\\n        \"user rights\",\\n        \"user account\"\\n      ],\\n      \"user_impact_level\": \"medium\",\\n      \"clauses\": [],\\n      \"version\": null\\n    }\\n  },\\n  {\\n    \"content\": \"Contact Us\\\\n\\\\nIf you have any questions about this Privacy Policy, please contact us at:\\\\n\\\\n[email protected]\",\\n    \"metadata\": {\\n      \"text\": \"Contact Us\\\\n\\\\nIf you have any questions about this Privacy Policy, please contact us at:\\\\n\\\\n[email protected]\",\\n      \"source_url\": null,\\n      \"domain\": \"The Honest Company\",\\n      \"scrape_date\": null,\\n      \"language\": \"en\",\\n      \"policy_type\": \"privacy_policy\",\\n      \"risk_tags\": [],\\n      \"section_title\": \"Contact Information\",\\n      \"summary\": \"Users can direct privacy policy questions to The Honest Company at [email protected].\",\\n      \"categories\": [\\n        \"contact information\"\\n      ],\\n      \"user_impact_level\": \"low\",\\n      \"clauses\": [],\\n      \"version\": null\\n    }\\n  }\\n]\\n```'"
      ]
     },
     "execution_count": 20,
     "metadata": {},
     "output_type": "execute_result"
    }
   ],
   "execution_count": 20
  },
  {
   "metadata": {
    "ExecuteTime": {
     "end_time": "2025-07-25T02:01:30.625573Z",
     "start_time": "2025-07-25T02:01:30.622599Z"
    }
   },
   "cell_type": "code",
   "source": [
    "import re\n",
    "import json\n",
    "\n",
    "# Step 1: Remove any accidental ```json blocks\n",
    "clean_output = re.sub(r\"^```json|```$\", \"\", str(output).strip(), flags=re.MULTILINE)\n",
    "\n",
    "# Step 2: Parse safely with json.loads\n",
    "try:\n",
    "    parsed_output = json.loads(clean_output)\n",
    "except json.JSONDecodeError as e:\n",
    "    print(\"❌ JSON parsing failed:\", e)\n",
    "    print(\"Raw output was:\\n\", clean_output[:1000])  # preview\n",
    "    parsed_output = []\n"
   ],
   "id": "6400ea4be8ba30f1",
   "outputs": [],
   "execution_count": 21
  },
  {
   "metadata": {
    "ExecuteTime": {
     "end_time": "2025-07-25T02:01:34.075678Z",
     "start_time": "2025-07-25T02:01:34.073255Z"
    }
   },
   "cell_type": "code",
   "source": "parsed_output[3][\"co\"]",
   "id": "d36d805f3d132dab",
   "outputs": [
    {
     "data": {
      "text/plain": [
       "{'text': 'Information We Collect From Other Sources\\n\\nWe may also obtain information from other sources. For example, if you create or log into your account through a social media service, we may have access to certain information from that service, such as your name, profile picture, and friends list, in accordance with the authorization procedures determined by such social media service. We may also receive information about you from other sources, including our business partners and third parties.',\n",
       " 'source_url': None,\n",
       " 'domain': 'The Honest Company',\n",
       " 'scrape_date': None,\n",
       " 'language': 'en',\n",
       " 'policy_type': 'privacy_policy',\n",
       " 'risk_tags': ['data_sharing'],\n",
       " 'section_title': 'Information Collection: From Other Sources',\n",
       " 'summary': 'The Honest Company may gather information from other sources, including social media services (with user authorization) and third-party partners.',\n",
       " 'categories': ['data_collection', 'third parties'],\n",
       " 'user_impact_level': 'medium',\n",
       " 'clauses': [],\n",
       " 'version': None}"
      ]
     },
     "execution_count": 22,
     "metadata": {},
     "output_type": "execute_result"
    }
   ],
   "execution_count": 22
  },
  {
   "metadata": {
    "ExecuteTime": {
     "end_time": "2025-07-25T02:12:36.810427Z",
     "start_time": "2025-07-25T02:11:56.926317Z"
    }
   },
   "cell_type": "code",
   "source": [
    "import re\n",
    "import json\n",
    "from datetime import datetime\n",
    "\n",
    "from langchain_core.prompts import ChatPromptTemplate\n",
    "from langchain_core.output_parsers import StrOutputParser\n",
    "\n",
    "# Prompt template\n",
    "prompt = ChatPromptTemplate.from_messages([\n",
    "    (\"system\", \"\"\"\n",
    "You are a legal policy enhancer. Each input is a section from a Terms of Service or Privacy Policy document, with partial metadata.\n",
    "\n",
    "You must fill in the missing metadata, using the content to infer the following:\n",
    "- language\n",
    "- policy_type\n",
    "- risk_tags\n",
    "- section_title\n",
    "- summary\n",
    "- categories\n",
    "- user_impact_level\n",
    "- clauses\n",
    "- version\n",
    "\n",
    "Return a valid JSON array like:\n",
    "[\n",
    "  {{\n",
    "    \"content\": \"...\",\n",
    "    \"metadata\": {{\n",
    "      \"text\": \"...\",\n",
    "      \"source_url\": \"...\",\n",
    "      \"domain\": \"...\",\n",
    "      \"scrape_date\": \"...\",\n",
    "      \"language\": \"...\",\n",
    "      \"policy_type\": \"...\",\n",
    "      \"risk_tags\": [\"...\"],\n",
    "      \"section_title\": \"...\",\n",
    "      \"summary\": \"...\",\n",
    "      \"categories\": [\"...\"],\n",
    "      \"user_impact_level\": \"...\",\n",
    "      \"clauses\": [{{\"title\": \"...\", \"clause\": \"...\"}}],\n",
    "      \"version\": \"...\"\n",
    "    }}\n",
    "  }}\n",
    "]\n",
    "No markdown, only raw JSON.\n",
    "    \"\"\"),\n",
    "    (\"human\", \"\"\"\n",
    "Here is one section of the document:\n",
    "\n",
    "{{document}}\n",
    "    \"\"\")\n",
    "])\n",
    "\n",
    "base_chain = prompt | llm | StrOutputParser()\n",
    "\n",
    "# -------------------------------\n",
    "# Step 1: Chunk the full document\n",
    "# -------------------------------\n",
    "def split_policy_sections(full_text: str) -> list[str]:\n",
    "    return re.split(r\"\\n(?=[A-Z]\\. )\", full_text)\n",
    "\n",
    "# -------------------------------\n",
    "# Step 2: Wrap into LLM-ready input\n",
    "# -------------------------------\n",
    "def build_input_chunk(text, section_label, metadata_stub):\n",
    "    return {\n",
    "        \"content\": text.strip(),\n",
    "        \"metadata\": {\n",
    "            **metadata_stub,\n",
    "            \"section_title\": section_label,\n",
    "            \"summary\": \"Fill this in.\",\n",
    "            \"risk_tags\": [],\n",
    "            \"categories\": [],\n",
    "            \"language\": \"en\",\n",
    "            \"policy_type\": \"unknown\",\n",
    "            \"user_impact_level\": \"unknown\",\n",
    "            \"clauses\": [],\n",
    "            \"version\": \"unknown\"\n",
    "        }\n",
    "    }\n",
    "\n",
    "# -------------------------------\n",
    "# Step 3: LLM-enhance chunks\n",
    "# -------------------------------\n",
    "def enrich_chunks(policy_text: str, source_url: str, company_name: str, domain: str):\n",
    "    scrape_date = datetime.utcnow().isoformat() + \"Z\"\n",
    "    base_metadata = {\n",
    "        \"text\": f\"{company_name} Policy Section\",\n",
    "        \"source_url\": source_url,\n",
    "        \"domain\": domain,\n",
    "        \"scrape_date\": scrape_date\n",
    "    }\n",
    "\n",
    "    raw_sections = split_policy_sections(policy_text)\n",
    "    enriched = []\n",
    "\n",
    "    for i, raw_chunk in enumerate(raw_sections):\n",
    "        section_label = raw_chunk.strip().split(\"\\n\")[0] if \"\\n\" in raw_chunk else f\"Section {i}\"\n",
    "        document_input = build_input_chunk(raw_chunk, section_label, base_metadata)\n",
    "\n",
    "        try:\n",
    "            print(f\"⏳ Enhancing chunk {i+1}/{len(raw_sections)}: {section_label[:40]}...\")\n",
    "            response = base_chain.invoke({\"document\": json.dumps(document_input)})\n",
    "            parsed = json.loads(response)\n",
    "            enriched.extend(parsed)\n",
    "        except Exception as e:\n",
    "            print(f\"❌ Failed chunk {i}: {e}\")\n",
    "            continue\n",
    "\n",
    "    return enriched\n",
    "\n",
    "# -------------------------------\n",
    "# Step 4: Run and save\n",
    "# -------------------------------\n",
    "if __name__ == \"__main__\":\n",
    "    # === 1. Load your GitHub ToS text here ===\n",
    "    policy_text = results[0][\"content\"]\n",
    "    # === 2. Customize source metadata ===\n",
    "    source_url = \"https://docs.github.com/en/site-policy/github-terms/github-terms-of-service\"\n",
    "    company_name = \"GitHub\"\n",
    "    domain = \"github.com\"\n",
    "\n",
    "    # === 3. Enrich and Save ===\n",
    "    enriched_chunks = enrich_chunks(policy_text, source_url, company_name, domain)\n",
    "\n",
    "    print(f\"✅ Done. {len(enriched_chunks)} enhanced chunks saved.\")\n"
   ],
   "id": "e870655559dbd971",
   "outputs": [
    {
     "name": "stderr",
     "output_type": "stream",
     "text": [
      "/var/folders/m8/x0f9131s0bnfbnqp15hmpbpw0000gn/T/ipykernel_2526/4282388093.py:90: DeprecationWarning: datetime.datetime.utcnow() is deprecated and scheduled for removal in a future version. Use timezone-aware objects to represent datetimes in UTC: datetime.datetime.now(datetime.UTC).\n",
      "  scrape_date = datetime.utcnow().isoformat() + \"Z\"\n"
     ]
    },
    {
     "name": "stdout",
     "output_type": "stream",
     "text": [
      "⏳ Enhancing chunk 1/55: GitHub Terms of Service - GitHub Docs...\n",
      "❌ Failed chunk 0: Expecting value: line 1 column 1 (char 0)\n",
      "⏳ Enhancing chunk 2/55: Section 1...\n",
      "❌ Failed chunk 1: Expecting value: line 1 column 1 (char 0)\n",
      "⏳ Enhancing chunk 3/55: Section 2...\n",
      "❌ Failed chunk 2: Expecting value: line 1 column 1 (char 0)\n",
      "⏳ Enhancing chunk 4/55: Section 3...\n",
      "❌ Failed chunk 3: Expecting value: line 1 column 1 (char 0)\n",
      "⏳ Enhancing chunk 5/55: Section 4...\n",
      "❌ Failed chunk 4: Expecting value: line 1 column 1 (char 0)\n",
      "⏳ Enhancing chunk 6/55: Section 5...\n",
      "❌ Failed chunk 5: Expecting value: line 1 column 1 (char 0)\n",
      "⏳ Enhancing chunk 7/55: Section 6...\n"
     ]
    },
    {
     "ename": "KeyboardInterrupt",
     "evalue": "",
     "output_type": "error",
     "traceback": [
      "\u001B[31m---------------------------------------------------------------------------\u001B[39m",
      "\u001B[31mKeyboardInterrupt\u001B[39m                         Traceback (most recent call last)",
      "\u001B[36mCell\u001B[39m\u001B[36m \u001B[39m\u001B[32mIn[25]\u001B[39m\u001B[32m, line 128\u001B[39m\n\u001B[32m    125\u001B[39m domain = \u001B[33m\"\u001B[39m\u001B[33mgithub.com\u001B[39m\u001B[33m\"\u001B[39m\n\u001B[32m    127\u001B[39m \u001B[38;5;66;03m# === 3. Enrich and Save ===\u001B[39;00m\n\u001B[32m--> \u001B[39m\u001B[32m128\u001B[39m enriched_chunks = \u001B[43menrich_chunks\u001B[49m\u001B[43m(\u001B[49m\u001B[43mpolicy_text\u001B[49m\u001B[43m,\u001B[49m\u001B[43m \u001B[49m\u001B[43msource_url\u001B[49m\u001B[43m,\u001B[49m\u001B[43m \u001B[49m\u001B[43mcompany_name\u001B[49m\u001B[43m,\u001B[49m\u001B[43m \u001B[49m\u001B[43mdomain\u001B[49m\u001B[43m)\u001B[49m\n\u001B[32m    130\u001B[39m \u001B[38;5;28mprint\u001B[39m(\u001B[33mf\u001B[39m\u001B[33m\"\u001B[39m\u001B[33m✅ Done. \u001B[39m\u001B[38;5;132;01m{\u001B[39;00m\u001B[38;5;28mlen\u001B[39m(enriched_chunks)\u001B[38;5;132;01m}\u001B[39;00m\u001B[33m enhanced chunks saved.\u001B[39m\u001B[33m\"\u001B[39m)\n",
      "\u001B[36mCell\u001B[39m\u001B[36m \u001B[39m\u001B[32mIn[25]\u001B[39m\u001B[32m, line 107\u001B[39m, in \u001B[36menrich_chunks\u001B[39m\u001B[34m(policy_text, source_url, company_name, domain)\u001B[39m\n\u001B[32m    105\u001B[39m \u001B[38;5;28;01mtry\u001B[39;00m:\n\u001B[32m    106\u001B[39m     \u001B[38;5;28mprint\u001B[39m(\u001B[33mf\u001B[39m\u001B[33m\"\u001B[39m\u001B[33m⏳ Enhancing chunk \u001B[39m\u001B[38;5;132;01m{\u001B[39;00mi+\u001B[32m1\u001B[39m\u001B[38;5;132;01m}\u001B[39;00m\u001B[33m/\u001B[39m\u001B[38;5;132;01m{\u001B[39;00m\u001B[38;5;28mlen\u001B[39m(raw_sections)\u001B[38;5;132;01m}\u001B[39;00m\u001B[33m: \u001B[39m\u001B[38;5;132;01m{\u001B[39;00msection_label[:\u001B[32m40\u001B[39m]\u001B[38;5;132;01m}\u001B[39;00m\u001B[33m...\u001B[39m\u001B[33m\"\u001B[39m)\n\u001B[32m--> \u001B[39m\u001B[32m107\u001B[39m     response = \u001B[43mbase_chain\u001B[49m\u001B[43m.\u001B[49m\u001B[43minvoke\u001B[49m\u001B[43m(\u001B[49m\u001B[43m{\u001B[49m\u001B[33;43m\"\u001B[39;49m\u001B[33;43mdocument\u001B[39;49m\u001B[33;43m\"\u001B[39;49m\u001B[43m:\u001B[49m\u001B[43m \u001B[49m\u001B[43mjson\u001B[49m\u001B[43m.\u001B[49m\u001B[43mdumps\u001B[49m\u001B[43m(\u001B[49m\u001B[43mdocument_input\u001B[49m\u001B[43m)\u001B[49m\u001B[43m}\u001B[49m\u001B[43m)\u001B[49m\n\u001B[32m    108\u001B[39m     parsed = json.loads(response)\n\u001B[32m    109\u001B[39m     enriched.extend(parsed)\n",
      "\u001B[36mFile \u001B[39m\u001B[32m~/Desktop/clausebit/.venv/lib/python3.13/site-packages/langchain_core/runnables/base.py:3046\u001B[39m, in \u001B[36mRunnableSequence.invoke\u001B[39m\u001B[34m(self, input, config, **kwargs)\u001B[39m\n\u001B[32m   3044\u001B[39m                 input_ = context.run(step.invoke, input_, config, **kwargs)\n\u001B[32m   3045\u001B[39m             \u001B[38;5;28;01melse\u001B[39;00m:\n\u001B[32m-> \u001B[39m\u001B[32m3046\u001B[39m                 input_ = \u001B[43mcontext\u001B[49m\u001B[43m.\u001B[49m\u001B[43mrun\u001B[49m\u001B[43m(\u001B[49m\u001B[43mstep\u001B[49m\u001B[43m.\u001B[49m\u001B[43minvoke\u001B[49m\u001B[43m,\u001B[49m\u001B[43m \u001B[49m\u001B[43minput_\u001B[49m\u001B[43m,\u001B[49m\u001B[43m \u001B[49m\u001B[43mconfig\u001B[49m\u001B[43m)\u001B[49m\n\u001B[32m   3047\u001B[39m \u001B[38;5;66;03m# finish the root run\u001B[39;00m\n\u001B[32m   3048\u001B[39m \u001B[38;5;28;01mexcept\u001B[39;00m \u001B[38;5;167;01mBaseException\u001B[39;00m \u001B[38;5;28;01mas\u001B[39;00m e:\n",
      "\u001B[36mFile \u001B[39m\u001B[32m~/Desktop/clausebit/.venv/lib/python3.13/site-packages/langchain_core/language_models/chat_models.py:395\u001B[39m, in \u001B[36mBaseChatModel.invoke\u001B[39m\u001B[34m(self, input, config, stop, **kwargs)\u001B[39m\n\u001B[32m    383\u001B[39m \u001B[38;5;129m@override\u001B[39m\n\u001B[32m    384\u001B[39m \u001B[38;5;28;01mdef\u001B[39;00m\u001B[38;5;250m \u001B[39m\u001B[34minvoke\u001B[39m(\n\u001B[32m    385\u001B[39m     \u001B[38;5;28mself\u001B[39m,\n\u001B[32m   (...)\u001B[39m\u001B[32m    390\u001B[39m     **kwargs: Any,\n\u001B[32m    391\u001B[39m ) -> BaseMessage:\n\u001B[32m    392\u001B[39m     config = ensure_config(config)\n\u001B[32m    393\u001B[39m     \u001B[38;5;28;01mreturn\u001B[39;00m cast(\n\u001B[32m    394\u001B[39m         \u001B[33m\"\u001B[39m\u001B[33mChatGeneration\u001B[39m\u001B[33m\"\u001B[39m,\n\u001B[32m--> \u001B[39m\u001B[32m395\u001B[39m         \u001B[38;5;28;43mself\u001B[39;49m\u001B[43m.\u001B[49m\u001B[43mgenerate_prompt\u001B[49m\u001B[43m(\u001B[49m\n\u001B[32m    396\u001B[39m \u001B[43m            \u001B[49m\u001B[43m[\u001B[49m\u001B[38;5;28;43mself\u001B[39;49m\u001B[43m.\u001B[49m\u001B[43m_convert_input\u001B[49m\u001B[43m(\u001B[49m\u001B[38;5;28;43minput\u001B[39;49m\u001B[43m)\u001B[49m\u001B[43m]\u001B[49m\u001B[43m,\u001B[49m\n\u001B[32m    397\u001B[39m \u001B[43m            \u001B[49m\u001B[43mstop\u001B[49m\u001B[43m=\u001B[49m\u001B[43mstop\u001B[49m\u001B[43m,\u001B[49m\n\u001B[32m    398\u001B[39m \u001B[43m            \u001B[49m\u001B[43mcallbacks\u001B[49m\u001B[43m=\u001B[49m\u001B[43mconfig\u001B[49m\u001B[43m.\u001B[49m\u001B[43mget\u001B[49m\u001B[43m(\u001B[49m\u001B[33;43m\"\u001B[39;49m\u001B[33;43mcallbacks\u001B[39;49m\u001B[33;43m\"\u001B[39;49m\u001B[43m)\u001B[49m\u001B[43m,\u001B[49m\n\u001B[32m    399\u001B[39m \u001B[43m            \u001B[49m\u001B[43mtags\u001B[49m\u001B[43m=\u001B[49m\u001B[43mconfig\u001B[49m\u001B[43m.\u001B[49m\u001B[43mget\u001B[49m\u001B[43m(\u001B[49m\u001B[33;43m\"\u001B[39;49m\u001B[33;43mtags\u001B[39;49m\u001B[33;43m\"\u001B[39;49m\u001B[43m)\u001B[49m\u001B[43m,\u001B[49m\n\u001B[32m    400\u001B[39m \u001B[43m            \u001B[49m\u001B[43mmetadata\u001B[49m\u001B[43m=\u001B[49m\u001B[43mconfig\u001B[49m\u001B[43m.\u001B[49m\u001B[43mget\u001B[49m\u001B[43m(\u001B[49m\u001B[33;43m\"\u001B[39;49m\u001B[33;43mmetadata\u001B[39;49m\u001B[33;43m\"\u001B[39;49m\u001B[43m)\u001B[49m\u001B[43m,\u001B[49m\n\u001B[32m    401\u001B[39m \u001B[43m            \u001B[49m\u001B[43mrun_name\u001B[49m\u001B[43m=\u001B[49m\u001B[43mconfig\u001B[49m\u001B[43m.\u001B[49m\u001B[43mget\u001B[49m\u001B[43m(\u001B[49m\u001B[33;43m\"\u001B[39;49m\u001B[33;43mrun_name\u001B[39;49m\u001B[33;43m\"\u001B[39;49m\u001B[43m)\u001B[49m\u001B[43m,\u001B[49m\n\u001B[32m    402\u001B[39m \u001B[43m            \u001B[49m\u001B[43mrun_id\u001B[49m\u001B[43m=\u001B[49m\u001B[43mconfig\u001B[49m\u001B[43m.\u001B[49m\u001B[43mpop\u001B[49m\u001B[43m(\u001B[49m\u001B[33;43m\"\u001B[39;49m\u001B[33;43mrun_id\u001B[39;49m\u001B[33;43m\"\u001B[39;49m\u001B[43m,\u001B[49m\u001B[43m \u001B[49m\u001B[38;5;28;43;01mNone\u001B[39;49;00m\u001B[43m)\u001B[49m\u001B[43m,\u001B[49m\n\u001B[32m    403\u001B[39m \u001B[43m            \u001B[49m\u001B[43m*\u001B[49m\u001B[43m*\u001B[49m\u001B[43mkwargs\u001B[49m\u001B[43m,\u001B[49m\n\u001B[32m    404\u001B[39m \u001B[43m        \u001B[49m\u001B[43m)\u001B[49m.generations[\u001B[32m0\u001B[39m][\u001B[32m0\u001B[39m],\n\u001B[32m    405\u001B[39m     ).message\n",
      "\u001B[36mFile \u001B[39m\u001B[32m~/Desktop/clausebit/.venv/lib/python3.13/site-packages/langchain_core/language_models/chat_models.py:980\u001B[39m, in \u001B[36mBaseChatModel.generate_prompt\u001B[39m\u001B[34m(self, prompts, stop, callbacks, **kwargs)\u001B[39m\n\u001B[32m    971\u001B[39m \u001B[38;5;129m@override\u001B[39m\n\u001B[32m    972\u001B[39m \u001B[38;5;28;01mdef\u001B[39;00m\u001B[38;5;250m \u001B[39m\u001B[34mgenerate_prompt\u001B[39m(\n\u001B[32m    973\u001B[39m     \u001B[38;5;28mself\u001B[39m,\n\u001B[32m   (...)\u001B[39m\u001B[32m    977\u001B[39m     **kwargs: Any,\n\u001B[32m    978\u001B[39m ) -> LLMResult:\n\u001B[32m    979\u001B[39m     prompt_messages = [p.to_messages() \u001B[38;5;28;01mfor\u001B[39;00m p \u001B[38;5;129;01min\u001B[39;00m prompts]\n\u001B[32m--> \u001B[39m\u001B[32m980\u001B[39m     \u001B[38;5;28;01mreturn\u001B[39;00m \u001B[38;5;28;43mself\u001B[39;49m\u001B[43m.\u001B[49m\u001B[43mgenerate\u001B[49m\u001B[43m(\u001B[49m\u001B[43mprompt_messages\u001B[49m\u001B[43m,\u001B[49m\u001B[43m \u001B[49m\u001B[43mstop\u001B[49m\u001B[43m=\u001B[49m\u001B[43mstop\u001B[49m\u001B[43m,\u001B[49m\u001B[43m \u001B[49m\u001B[43mcallbacks\u001B[49m\u001B[43m=\u001B[49m\u001B[43mcallbacks\u001B[49m\u001B[43m,\u001B[49m\u001B[43m \u001B[49m\u001B[43m*\u001B[49m\u001B[43m*\u001B[49m\u001B[43mkwargs\u001B[49m\u001B[43m)\u001B[49m\n",
      "\u001B[36mFile \u001B[39m\u001B[32m~/Desktop/clausebit/.venv/lib/python3.13/site-packages/langchain_core/language_models/chat_models.py:799\u001B[39m, in \u001B[36mBaseChatModel.generate\u001B[39m\u001B[34m(self, messages, stop, callbacks, tags, metadata, run_name, run_id, **kwargs)\u001B[39m\n\u001B[32m    796\u001B[39m \u001B[38;5;28;01mfor\u001B[39;00m i, m \u001B[38;5;129;01min\u001B[39;00m \u001B[38;5;28menumerate\u001B[39m(input_messages):\n\u001B[32m    797\u001B[39m     \u001B[38;5;28;01mtry\u001B[39;00m:\n\u001B[32m    798\u001B[39m         results.append(\n\u001B[32m--> \u001B[39m\u001B[32m799\u001B[39m             \u001B[38;5;28;43mself\u001B[39;49m\u001B[43m.\u001B[49m\u001B[43m_generate_with_cache\u001B[49m\u001B[43m(\u001B[49m\n\u001B[32m    800\u001B[39m \u001B[43m                \u001B[49m\u001B[43mm\u001B[49m\u001B[43m,\u001B[49m\n\u001B[32m    801\u001B[39m \u001B[43m                \u001B[49m\u001B[43mstop\u001B[49m\u001B[43m=\u001B[49m\u001B[43mstop\u001B[49m\u001B[43m,\u001B[49m\n\u001B[32m    802\u001B[39m \u001B[43m                \u001B[49m\u001B[43mrun_manager\u001B[49m\u001B[43m=\u001B[49m\u001B[43mrun_managers\u001B[49m\u001B[43m[\u001B[49m\u001B[43mi\u001B[49m\u001B[43m]\u001B[49m\u001B[43m \u001B[49m\u001B[38;5;28;43;01mif\u001B[39;49;00m\u001B[43m \u001B[49m\u001B[43mrun_managers\u001B[49m\u001B[43m \u001B[49m\u001B[38;5;28;43;01melse\u001B[39;49;00m\u001B[43m \u001B[49m\u001B[38;5;28;43;01mNone\u001B[39;49;00m\u001B[43m,\u001B[49m\n\u001B[32m    803\u001B[39m \u001B[43m                \u001B[49m\u001B[43m*\u001B[49m\u001B[43m*\u001B[49m\u001B[43mkwargs\u001B[49m\u001B[43m,\u001B[49m\n\u001B[32m    804\u001B[39m \u001B[43m            \u001B[49m\u001B[43m)\u001B[49m\n\u001B[32m    805\u001B[39m         )\n\u001B[32m    806\u001B[39m     \u001B[38;5;28;01mexcept\u001B[39;00m \u001B[38;5;167;01mBaseException\u001B[39;00m \u001B[38;5;28;01mas\u001B[39;00m e:\n\u001B[32m    807\u001B[39m         \u001B[38;5;28;01mif\u001B[39;00m run_managers:\n",
      "\u001B[36mFile \u001B[39m\u001B[32m~/Desktop/clausebit/.venv/lib/python3.13/site-packages/langchain_core/language_models/chat_models.py:1045\u001B[39m, in \u001B[36mBaseChatModel._generate_with_cache\u001B[39m\u001B[34m(self, messages, stop, run_manager, **kwargs)\u001B[39m\n\u001B[32m   1043\u001B[39m     result = generate_from_stream(\u001B[38;5;28miter\u001B[39m(chunks))\n\u001B[32m   1044\u001B[39m \u001B[38;5;28;01melif\u001B[39;00m inspect.signature(\u001B[38;5;28mself\u001B[39m._generate).parameters.get(\u001B[33m\"\u001B[39m\u001B[33mrun_manager\u001B[39m\u001B[33m\"\u001B[39m):\n\u001B[32m-> \u001B[39m\u001B[32m1045\u001B[39m     result = \u001B[38;5;28;43mself\u001B[39;49m\u001B[43m.\u001B[49m\u001B[43m_generate\u001B[49m\u001B[43m(\u001B[49m\n\u001B[32m   1046\u001B[39m \u001B[43m        \u001B[49m\u001B[43mmessages\u001B[49m\u001B[43m,\u001B[49m\u001B[43m \u001B[49m\u001B[43mstop\u001B[49m\u001B[43m=\u001B[49m\u001B[43mstop\u001B[49m\u001B[43m,\u001B[49m\u001B[43m \u001B[49m\u001B[43mrun_manager\u001B[49m\u001B[43m=\u001B[49m\u001B[43mrun_manager\u001B[49m\u001B[43m,\u001B[49m\u001B[43m \u001B[49m\u001B[43m*\u001B[49m\u001B[43m*\u001B[49m\u001B[43mkwargs\u001B[49m\n\u001B[32m   1047\u001B[39m \u001B[43m    \u001B[49m\u001B[43m)\u001B[49m\n\u001B[32m   1048\u001B[39m \u001B[38;5;28;01melse\u001B[39;00m:\n\u001B[32m   1049\u001B[39m     result = \u001B[38;5;28mself\u001B[39m._generate(messages, stop=stop, **kwargs)\n",
      "\u001B[36mFile \u001B[39m\u001B[32m~/Desktop/clausebit/.venv/lib/python3.13/site-packages/langchain_google_vertexai/chat_models.py:1451\u001B[39m, in \u001B[36mChatVertexAI._generate\u001B[39m\u001B[34m(self, messages, stop, run_manager, stream, **kwargs)\u001B[39m\n\u001B[32m   1447\u001B[39m     stream_iter = \u001B[38;5;28mself\u001B[39m._stream(\n\u001B[32m   1448\u001B[39m         messages, stop=stop, run_manager=run_manager, **kwargs\n\u001B[32m   1449\u001B[39m     )\n\u001B[32m   1450\u001B[39m     \u001B[38;5;28;01mreturn\u001B[39;00m generate_from_stream(stream_iter)\n\u001B[32m-> \u001B[39m\u001B[32m1451\u001B[39m \u001B[38;5;28;01mreturn\u001B[39;00m \u001B[38;5;28;43mself\u001B[39;49m\u001B[43m.\u001B[49m\u001B[43m_generate_gemini\u001B[49m\u001B[43m(\u001B[49m\n\u001B[32m   1452\u001B[39m \u001B[43m    \u001B[49m\u001B[43mmessages\u001B[49m\u001B[43m=\u001B[49m\u001B[43mmessages\u001B[49m\u001B[43m,\u001B[49m\n\u001B[32m   1453\u001B[39m \u001B[43m    \u001B[49m\u001B[43mstop\u001B[49m\u001B[43m=\u001B[49m\u001B[43mstop\u001B[49m\u001B[43m,\u001B[49m\n\u001B[32m   1454\u001B[39m \u001B[43m    \u001B[49m\u001B[43mrun_manager\u001B[49m\u001B[43m=\u001B[49m\u001B[43mrun_manager\u001B[49m\u001B[43m,\u001B[49m\n\u001B[32m   1455\u001B[39m \u001B[43m    \u001B[49m\u001B[43m*\u001B[49m\u001B[43m*\u001B[49m\u001B[43mkwargs\u001B[49m\u001B[43m,\u001B[49m\n\u001B[32m   1456\u001B[39m \u001B[43m\u001B[49m\u001B[43m)\u001B[49m\n",
      "\u001B[36mFile \u001B[39m\u001B[32m~/Desktop/clausebit/.venv/lib/python3.13/site-packages/langchain_google_vertexai/chat_models.py:1687\u001B[39m, in \u001B[36mChatVertexAI._generate_gemini\u001B[39m\u001B[34m(self, messages, stop, run_manager, **kwargs)\u001B[39m\n\u001B[32m   1679\u001B[39m \u001B[38;5;28;01mdef\u001B[39;00m\u001B[38;5;250m \u001B[39m\u001B[34m_generate_gemini\u001B[39m(\n\u001B[32m   1680\u001B[39m     \u001B[38;5;28mself\u001B[39m,\n\u001B[32m   1681\u001B[39m     messages: List[BaseMessage],\n\u001B[32m   (...)\u001B[39m\u001B[32m   1684\u001B[39m     **kwargs: Any,\n\u001B[32m   1685\u001B[39m ) -> ChatResult:\n\u001B[32m   1686\u001B[39m     request = \u001B[38;5;28mself\u001B[39m._prepare_request_gemini(messages=messages, stop=stop, **kwargs)\n\u001B[32m-> \u001B[39m\u001B[32m1687\u001B[39m     response = \u001B[43m_completion_with_retry\u001B[49m\u001B[43m(\u001B[49m\n\u001B[32m   1688\u001B[39m \u001B[43m        \u001B[49m\u001B[38;5;28;43mself\u001B[39;49m\u001B[43m.\u001B[49m\u001B[43mprediction_client\u001B[49m\u001B[43m.\u001B[49m\u001B[43mgenerate_content\u001B[49m\u001B[43m,\u001B[49m\n\u001B[32m   1689\u001B[39m \u001B[43m        \u001B[49m\u001B[43mmax_retries\u001B[49m\u001B[43m=\u001B[49m\u001B[38;5;28;43mself\u001B[39;49m\u001B[43m.\u001B[49m\u001B[43mmax_retries\u001B[49m\u001B[43m,\u001B[49m\n\u001B[32m   1690\u001B[39m \u001B[43m        \u001B[49m\u001B[43mrun_manager\u001B[49m\u001B[43m=\u001B[49m\u001B[43mrun_manager\u001B[49m\u001B[43m,\u001B[49m\n\u001B[32m   1691\u001B[39m \u001B[43m        \u001B[49m\u001B[43mwait_exponential_kwargs\u001B[49m\u001B[43m=\u001B[49m\u001B[38;5;28;43mself\u001B[39;49m\u001B[43m.\u001B[49m\u001B[43mwait_exponential_kwargs\u001B[49m\u001B[43m,\u001B[49m\n\u001B[32m   1692\u001B[39m \u001B[43m        \u001B[49m\u001B[43mrequest\u001B[49m\u001B[43m=\u001B[49m\u001B[43mrequest\u001B[49m\u001B[43m,\u001B[49m\n\u001B[32m   1693\u001B[39m \u001B[43m        \u001B[49m\u001B[43mmetadata\u001B[49m\u001B[43m=\u001B[49m\u001B[38;5;28;43mself\u001B[39;49m\u001B[43m.\u001B[49m\u001B[43mdefault_metadata\u001B[49m\u001B[43m,\u001B[49m\n\u001B[32m   1694\u001B[39m \u001B[43m        \u001B[49m\u001B[43m*\u001B[49m\u001B[43m*\u001B[49m\u001B[43mkwargs\u001B[49m\u001B[43m,\u001B[49m\n\u001B[32m   1695\u001B[39m \u001B[43m    \u001B[49m\u001B[43m)\u001B[49m\n\u001B[32m   1696\u001B[39m     \u001B[38;5;28;01mreturn\u001B[39;00m \u001B[38;5;28mself\u001B[39m._gemini_response_to_chat_result(response)\n",
      "\u001B[36mFile \u001B[39m\u001B[32m~/Desktop/clausebit/.venv/lib/python3.13/site-packages/langchain_google_vertexai/chat_models.py:720\u001B[39m, in \u001B[36m_completion_with_retry\u001B[39m\u001B[34m(generation_method, max_retries, run_manager, wait_exponential_kwargs, **kwargs)\u001B[39m\n\u001B[32m    715\u001B[39m     \u001B[38;5;28;01mreturn\u001B[39;00m generation_method(**kwargs)\n\u001B[32m    717\u001B[39m params = {\n\u001B[32m    718\u001B[39m     k: v \u001B[38;5;28;01mfor\u001B[39;00m k, v \u001B[38;5;129;01min\u001B[39;00m kwargs.items() \u001B[38;5;28;01mif\u001B[39;00m k \u001B[38;5;129;01min\u001B[39;00m _allowed_params_prediction_service\n\u001B[32m    719\u001B[39m }\n\u001B[32m--> \u001B[39m\u001B[32m720\u001B[39m \u001B[38;5;28;01mreturn\u001B[39;00m \u001B[43m_completion_with_retry_inner\u001B[49m\u001B[43m(\u001B[49m\n\u001B[32m    721\u001B[39m \u001B[43m    \u001B[49m\u001B[43mgeneration_method\u001B[49m\u001B[43m,\u001B[49m\n\u001B[32m    722\u001B[39m \u001B[43m    \u001B[49m\u001B[43m*\u001B[49m\u001B[43m*\u001B[49m\u001B[43mparams\u001B[49m\u001B[43m,\u001B[49m\n\u001B[32m    723\u001B[39m \u001B[43m\u001B[49m\u001B[43m)\u001B[49m\n",
      "\u001B[36mFile \u001B[39m\u001B[32m~/Desktop/clausebit/.venv/lib/python3.13/site-packages/tenacity/__init__.py:336\u001B[39m, in \u001B[36mBaseRetrying.wraps.<locals>.wrapped_f\u001B[39m\u001B[34m(*args, **kw)\u001B[39m\n\u001B[32m    334\u001B[39m copy = \u001B[38;5;28mself\u001B[39m.copy()\n\u001B[32m    335\u001B[39m wrapped_f.statistics = copy.statistics  \u001B[38;5;66;03m# type: ignore[attr-defined]\u001B[39;00m\n\u001B[32m--> \u001B[39m\u001B[32m336\u001B[39m \u001B[38;5;28;01mreturn\u001B[39;00m \u001B[43mcopy\u001B[49m\u001B[43m(\u001B[49m\u001B[43mf\u001B[49m\u001B[43m,\u001B[49m\u001B[43m \u001B[49m\u001B[43m*\u001B[49m\u001B[43margs\u001B[49m\u001B[43m,\u001B[49m\u001B[43m \u001B[49m\u001B[43m*\u001B[49m\u001B[43m*\u001B[49m\u001B[43mkw\u001B[49m\u001B[43m)\u001B[49m\n",
      "\u001B[36mFile \u001B[39m\u001B[32m~/Desktop/clausebit/.venv/lib/python3.13/site-packages/tenacity/__init__.py:475\u001B[39m, in \u001B[36mRetrying.__call__\u001B[39m\u001B[34m(self, fn, *args, **kwargs)\u001B[39m\n\u001B[32m    473\u001B[39m retry_state = RetryCallState(retry_object=\u001B[38;5;28mself\u001B[39m, fn=fn, args=args, kwargs=kwargs)\n\u001B[32m    474\u001B[39m \u001B[38;5;28;01mwhile\u001B[39;00m \u001B[38;5;28;01mTrue\u001B[39;00m:\n\u001B[32m--> \u001B[39m\u001B[32m475\u001B[39m     do = \u001B[38;5;28;43mself\u001B[39;49m\u001B[43m.\u001B[49m\u001B[43miter\u001B[49m\u001B[43m(\u001B[49m\u001B[43mretry_state\u001B[49m\u001B[43m=\u001B[49m\u001B[43mretry_state\u001B[49m\u001B[43m)\u001B[49m\n\u001B[32m    476\u001B[39m     \u001B[38;5;28;01mif\u001B[39;00m \u001B[38;5;28misinstance\u001B[39m(do, DoAttempt):\n\u001B[32m    477\u001B[39m         \u001B[38;5;28;01mtry\u001B[39;00m:\n",
      "\u001B[36mFile \u001B[39m\u001B[32m~/Desktop/clausebit/.venv/lib/python3.13/site-packages/tenacity/__init__.py:376\u001B[39m, in \u001B[36mBaseRetrying.iter\u001B[39m\u001B[34m(self, retry_state)\u001B[39m\n\u001B[32m    374\u001B[39m result = \u001B[38;5;28;01mNone\u001B[39;00m\n\u001B[32m    375\u001B[39m \u001B[38;5;28;01mfor\u001B[39;00m action \u001B[38;5;129;01min\u001B[39;00m \u001B[38;5;28mself\u001B[39m.iter_state.actions:\n\u001B[32m--> \u001B[39m\u001B[32m376\u001B[39m     result = \u001B[43maction\u001B[49m\u001B[43m(\u001B[49m\u001B[43mretry_state\u001B[49m\u001B[43m)\u001B[49m\n\u001B[32m    377\u001B[39m \u001B[38;5;28;01mreturn\u001B[39;00m result\n",
      "\u001B[36mFile \u001B[39m\u001B[32m~/Desktop/clausebit/.venv/lib/python3.13/site-packages/tenacity/__init__.py:398\u001B[39m, in \u001B[36mBaseRetrying._post_retry_check_actions.<locals>.<lambda>\u001B[39m\u001B[34m(rs)\u001B[39m\n\u001B[32m    396\u001B[39m \u001B[38;5;28;01mdef\u001B[39;00m\u001B[38;5;250m \u001B[39m\u001B[34m_post_retry_check_actions\u001B[39m(\u001B[38;5;28mself\u001B[39m, retry_state: \u001B[33m\"\u001B[39m\u001B[33mRetryCallState\u001B[39m\u001B[33m\"\u001B[39m) -> \u001B[38;5;28;01mNone\u001B[39;00m:\n\u001B[32m    397\u001B[39m     \u001B[38;5;28;01mif\u001B[39;00m \u001B[38;5;129;01mnot\u001B[39;00m (\u001B[38;5;28mself\u001B[39m.iter_state.is_explicit_retry \u001B[38;5;129;01mor\u001B[39;00m \u001B[38;5;28mself\u001B[39m.iter_state.retry_run_result):\n\u001B[32m--> \u001B[39m\u001B[32m398\u001B[39m         \u001B[38;5;28mself\u001B[39m._add_action_func(\u001B[38;5;28;01mlambda\u001B[39;00m rs: \u001B[43mrs\u001B[49m\u001B[43m.\u001B[49m\u001B[43moutcome\u001B[49m\u001B[43m.\u001B[49m\u001B[43mresult\u001B[49m\u001B[43m(\u001B[49m\u001B[43m)\u001B[49m)\n\u001B[32m    399\u001B[39m         \u001B[38;5;28;01mreturn\u001B[39;00m\n\u001B[32m    401\u001B[39m     \u001B[38;5;28;01mif\u001B[39;00m \u001B[38;5;28mself\u001B[39m.after \u001B[38;5;129;01mis\u001B[39;00m \u001B[38;5;129;01mnot\u001B[39;00m \u001B[38;5;28;01mNone\u001B[39;00m:\n",
      "\u001B[36mFile \u001B[39m\u001B[32m/Library/Frameworks/Python.framework/Versions/3.13/lib/python3.13/concurrent/futures/_base.py:449\u001B[39m, in \u001B[36mFuture.result\u001B[39m\u001B[34m(self, timeout)\u001B[39m\n\u001B[32m    447\u001B[39m     \u001B[38;5;28;01mraise\u001B[39;00m CancelledError()\n\u001B[32m    448\u001B[39m \u001B[38;5;28;01melif\u001B[39;00m \u001B[38;5;28mself\u001B[39m._state == FINISHED:\n\u001B[32m--> \u001B[39m\u001B[32m449\u001B[39m     \u001B[38;5;28;01mreturn\u001B[39;00m \u001B[38;5;28;43mself\u001B[39;49m\u001B[43m.\u001B[49m\u001B[43m__get_result\u001B[49m\u001B[43m(\u001B[49m\u001B[43m)\u001B[49m\n\u001B[32m    451\u001B[39m \u001B[38;5;28mself\u001B[39m._condition.wait(timeout)\n\u001B[32m    453\u001B[39m \u001B[38;5;28;01mif\u001B[39;00m \u001B[38;5;28mself\u001B[39m._state \u001B[38;5;129;01min\u001B[39;00m [CANCELLED, CANCELLED_AND_NOTIFIED]:\n",
      "\u001B[36mFile \u001B[39m\u001B[32m/Library/Frameworks/Python.framework/Versions/3.13/lib/python3.13/concurrent/futures/_base.py:401\u001B[39m, in \u001B[36mFuture.__get_result\u001B[39m\u001B[34m(self)\u001B[39m\n\u001B[32m    399\u001B[39m \u001B[38;5;28;01mif\u001B[39;00m \u001B[38;5;28mself\u001B[39m._exception:\n\u001B[32m    400\u001B[39m     \u001B[38;5;28;01mtry\u001B[39;00m:\n\u001B[32m--> \u001B[39m\u001B[32m401\u001B[39m         \u001B[38;5;28;01mraise\u001B[39;00m \u001B[38;5;28mself\u001B[39m._exception\n\u001B[32m    402\u001B[39m     \u001B[38;5;28;01mfinally\u001B[39;00m:\n\u001B[32m    403\u001B[39m         \u001B[38;5;66;03m# Break a reference cycle with the exception in self._exception\u001B[39;00m\n\u001B[32m    404\u001B[39m         \u001B[38;5;28mself\u001B[39m = \u001B[38;5;28;01mNone\u001B[39;00m\n",
      "\u001B[36mFile \u001B[39m\u001B[32m~/Desktop/clausebit/.venv/lib/python3.13/site-packages/tenacity/__init__.py:478\u001B[39m, in \u001B[36mRetrying.__call__\u001B[39m\u001B[34m(self, fn, *args, **kwargs)\u001B[39m\n\u001B[32m    476\u001B[39m \u001B[38;5;28;01mif\u001B[39;00m \u001B[38;5;28misinstance\u001B[39m(do, DoAttempt):\n\u001B[32m    477\u001B[39m     \u001B[38;5;28;01mtry\u001B[39;00m:\n\u001B[32m--> \u001B[39m\u001B[32m478\u001B[39m         result = \u001B[43mfn\u001B[49m\u001B[43m(\u001B[49m\u001B[43m*\u001B[49m\u001B[43margs\u001B[49m\u001B[43m,\u001B[49m\u001B[43m \u001B[49m\u001B[43m*\u001B[49m\u001B[43m*\u001B[49m\u001B[43mkwargs\u001B[49m\u001B[43m)\u001B[49m\n\u001B[32m    479\u001B[39m     \u001B[38;5;28;01mexcept\u001B[39;00m \u001B[38;5;167;01mBaseException\u001B[39;00m:  \u001B[38;5;66;03m# noqa: B902\u001B[39;00m\n\u001B[32m    480\u001B[39m         retry_state.set_exception(sys.exc_info())  \u001B[38;5;66;03m# type: ignore[arg-type]\u001B[39;00m\n",
      "\u001B[36mFile \u001B[39m\u001B[32m~/Desktop/clausebit/.venv/lib/python3.13/site-packages/langchain_google_vertexai/chat_models.py:715\u001B[39m, in \u001B[36m_completion_with_retry.<locals>._completion_with_retry_inner\u001B[39m\u001B[34m(generation_method, **kwargs)\u001B[39m\n\u001B[32m    713\u001B[39m \u001B[38;5;129m@retry_decorator\u001B[39m\n\u001B[32m    714\u001B[39m \u001B[38;5;28;01mdef\u001B[39;00m\u001B[38;5;250m \u001B[39m\u001B[34m_completion_with_retry_inner\u001B[39m(generation_method: Callable, **kwargs: Any) -> Any:\n\u001B[32m--> \u001B[39m\u001B[32m715\u001B[39m     \u001B[38;5;28;01mreturn\u001B[39;00m \u001B[43mgeneration_method\u001B[49m\u001B[43m(\u001B[49m\u001B[43m*\u001B[49m\u001B[43m*\u001B[49m\u001B[43mkwargs\u001B[49m\u001B[43m)\u001B[49m\n",
      "\u001B[36mFile \u001B[39m\u001B[32m~/Desktop/clausebit/.venv/lib/python3.13/site-packages/google/cloud/aiplatform_v1beta1/services/prediction_service/client.py:2397\u001B[39m, in \u001B[36mPredictionServiceClient.generate_content\u001B[39m\u001B[34m(self, request, model, contents, retry, timeout, metadata)\u001B[39m\n\u001B[32m   2394\u001B[39m \u001B[38;5;28mself\u001B[39m._validate_universe_domain()\n\u001B[32m   2396\u001B[39m \u001B[38;5;66;03m# Send the request.\u001B[39;00m\n\u001B[32m-> \u001B[39m\u001B[32m2397\u001B[39m response = \u001B[43mrpc\u001B[49m\u001B[43m(\u001B[49m\n\u001B[32m   2398\u001B[39m \u001B[43m    \u001B[49m\u001B[43mrequest\u001B[49m\u001B[43m,\u001B[49m\n\u001B[32m   2399\u001B[39m \u001B[43m    \u001B[49m\u001B[43mretry\u001B[49m\u001B[43m=\u001B[49m\u001B[43mretry\u001B[49m\u001B[43m,\u001B[49m\n\u001B[32m   2400\u001B[39m \u001B[43m    \u001B[49m\u001B[43mtimeout\u001B[49m\u001B[43m=\u001B[49m\u001B[43mtimeout\u001B[49m\u001B[43m,\u001B[49m\n\u001B[32m   2401\u001B[39m \u001B[43m    \u001B[49m\u001B[43mmetadata\u001B[49m\u001B[43m=\u001B[49m\u001B[43mmetadata\u001B[49m\u001B[43m,\u001B[49m\n\u001B[32m   2402\u001B[39m \u001B[43m\u001B[49m\u001B[43m)\u001B[49m\n\u001B[32m   2404\u001B[39m \u001B[38;5;66;03m# Done; return the response.\u001B[39;00m\n\u001B[32m   2405\u001B[39m \u001B[38;5;28;01mreturn\u001B[39;00m response\n",
      "\u001B[36mFile \u001B[39m\u001B[32m~/Desktop/clausebit/.venv/lib/python3.13/site-packages/google/api_core/gapic_v1/method.py:131\u001B[39m, in \u001B[36m_GapicCallable.__call__\u001B[39m\u001B[34m(self, timeout, retry, compression, *args, **kwargs)\u001B[39m\n\u001B[32m    128\u001B[39m \u001B[38;5;28;01mif\u001B[39;00m \u001B[38;5;28mself\u001B[39m._compression \u001B[38;5;129;01mis\u001B[39;00m \u001B[38;5;129;01mnot\u001B[39;00m \u001B[38;5;28;01mNone\u001B[39;00m:\n\u001B[32m    129\u001B[39m     kwargs[\u001B[33m\"\u001B[39m\u001B[33mcompression\u001B[39m\u001B[33m\"\u001B[39m] = compression\n\u001B[32m--> \u001B[39m\u001B[32m131\u001B[39m \u001B[38;5;28;01mreturn\u001B[39;00m \u001B[43mwrapped_func\u001B[49m\u001B[43m(\u001B[49m\u001B[43m*\u001B[49m\u001B[43margs\u001B[49m\u001B[43m,\u001B[49m\u001B[43m \u001B[49m\u001B[43m*\u001B[49m\u001B[43m*\u001B[49m\u001B[43mkwargs\u001B[49m\u001B[43m)\u001B[49m\n",
      "\u001B[36mFile \u001B[39m\u001B[32m~/Desktop/clausebit/.venv/lib/python3.13/site-packages/google/api_core/grpc_helpers.py:76\u001B[39m, in \u001B[36m_wrap_unary_errors.<locals>.error_remapped_callable\u001B[39m\u001B[34m(*args, **kwargs)\u001B[39m\n\u001B[32m     73\u001B[39m \u001B[38;5;129m@functools\u001B[39m.wraps(callable_)\n\u001B[32m     74\u001B[39m \u001B[38;5;28;01mdef\u001B[39;00m\u001B[38;5;250m \u001B[39m\u001B[34merror_remapped_callable\u001B[39m(*args, **kwargs):\n\u001B[32m     75\u001B[39m     \u001B[38;5;28;01mtry\u001B[39;00m:\n\u001B[32m---> \u001B[39m\u001B[32m76\u001B[39m         \u001B[38;5;28;01mreturn\u001B[39;00m \u001B[43mcallable_\u001B[49m\u001B[43m(\u001B[49m\u001B[43m*\u001B[49m\u001B[43margs\u001B[49m\u001B[43m,\u001B[49m\u001B[43m \u001B[49m\u001B[43m*\u001B[49m\u001B[43m*\u001B[49m\u001B[43mkwargs\u001B[49m\u001B[43m)\u001B[49m\n\u001B[32m     77\u001B[39m     \u001B[38;5;28;01mexcept\u001B[39;00m grpc.RpcError \u001B[38;5;28;01mas\u001B[39;00m exc:\n\u001B[32m     78\u001B[39m         \u001B[38;5;28;01mraise\u001B[39;00m exceptions.from_grpc_error(exc) \u001B[38;5;28;01mfrom\u001B[39;00m\u001B[38;5;250m \u001B[39m\u001B[34;01mexc\u001B[39;00m\n",
      "\u001B[36mFile \u001B[39m\u001B[32m~/Desktop/clausebit/.venv/lib/python3.13/site-packages/grpc/_interceptor.py:277\u001B[39m, in \u001B[36m_UnaryUnaryMultiCallable.__call__\u001B[39m\u001B[34m(self, request, timeout, metadata, credentials, wait_for_ready, compression)\u001B[39m\n\u001B[32m    268\u001B[39m \u001B[38;5;28;01mdef\u001B[39;00m\u001B[38;5;250m \u001B[39m\u001B[34m__call__\u001B[39m(\n\u001B[32m    269\u001B[39m     \u001B[38;5;28mself\u001B[39m,\n\u001B[32m    270\u001B[39m     request: Any,\n\u001B[32m   (...)\u001B[39m\u001B[32m    275\u001B[39m     compression: Optional[grpc.Compression] = \u001B[38;5;28;01mNone\u001B[39;00m,\n\u001B[32m    276\u001B[39m ) -> Any:\n\u001B[32m--> \u001B[39m\u001B[32m277\u001B[39m     response, ignored_call = \u001B[38;5;28;43mself\u001B[39;49m\u001B[43m.\u001B[49m\u001B[43m_with_call\u001B[49m\u001B[43m(\u001B[49m\n\u001B[32m    278\u001B[39m \u001B[43m        \u001B[49m\u001B[43mrequest\u001B[49m\u001B[43m,\u001B[49m\n\u001B[32m    279\u001B[39m \u001B[43m        \u001B[49m\u001B[43mtimeout\u001B[49m\u001B[43m=\u001B[49m\u001B[43mtimeout\u001B[49m\u001B[43m,\u001B[49m\n\u001B[32m    280\u001B[39m \u001B[43m        \u001B[49m\u001B[43mmetadata\u001B[49m\u001B[43m=\u001B[49m\u001B[43mmetadata\u001B[49m\u001B[43m,\u001B[49m\n\u001B[32m    281\u001B[39m \u001B[43m        \u001B[49m\u001B[43mcredentials\u001B[49m\u001B[43m=\u001B[49m\u001B[43mcredentials\u001B[49m\u001B[43m,\u001B[49m\n\u001B[32m    282\u001B[39m \u001B[43m        \u001B[49m\u001B[43mwait_for_ready\u001B[49m\u001B[43m=\u001B[49m\u001B[43mwait_for_ready\u001B[49m\u001B[43m,\u001B[49m\n\u001B[32m    283\u001B[39m \u001B[43m        \u001B[49m\u001B[43mcompression\u001B[49m\u001B[43m=\u001B[49m\u001B[43mcompression\u001B[49m\u001B[43m,\u001B[49m\n\u001B[32m    284\u001B[39m \u001B[43m    \u001B[49m\u001B[43m)\u001B[49m\n\u001B[32m    285\u001B[39m     \u001B[38;5;28;01mreturn\u001B[39;00m response\n",
      "\u001B[36mFile \u001B[39m\u001B[32m~/Desktop/clausebit/.venv/lib/python3.13/site-packages/grpc/_interceptor.py:329\u001B[39m, in \u001B[36m_UnaryUnaryMultiCallable._with_call\u001B[39m\u001B[34m(self, request, timeout, metadata, credentials, wait_for_ready, compression)\u001B[39m\n\u001B[32m    326\u001B[39m     \u001B[38;5;28;01mexcept\u001B[39;00m \u001B[38;5;167;01mException\u001B[39;00m \u001B[38;5;28;01mas\u001B[39;00m exception:  \u001B[38;5;66;03m# pylint:disable=broad-except\u001B[39;00m\n\u001B[32m    327\u001B[39m         \u001B[38;5;28;01mreturn\u001B[39;00m _FailureOutcome(exception, sys.exc_info()[\u001B[32m2\u001B[39m])\n\u001B[32m--> \u001B[39m\u001B[32m329\u001B[39m call = \u001B[38;5;28;43mself\u001B[39;49m\u001B[43m.\u001B[49m\u001B[43m_interceptor\u001B[49m\u001B[43m.\u001B[49m\u001B[43mintercept_unary_unary\u001B[49m\u001B[43m(\u001B[49m\n\u001B[32m    330\u001B[39m \u001B[43m    \u001B[49m\u001B[43mcontinuation\u001B[49m\u001B[43m,\u001B[49m\u001B[43m \u001B[49m\u001B[43mclient_call_details\u001B[49m\u001B[43m,\u001B[49m\u001B[43m \u001B[49m\u001B[43mrequest\u001B[49m\n\u001B[32m    331\u001B[39m \u001B[43m\u001B[49m\u001B[43m)\u001B[49m\n\u001B[32m    332\u001B[39m \u001B[38;5;28;01mreturn\u001B[39;00m call.result(), call\n",
      "\u001B[36mFile \u001B[39m\u001B[32m~/Desktop/clausebit/.venv/lib/python3.13/site-packages/google/cloud/aiplatform_v1beta1/services/prediction_service/transports/grpc.py:83\u001B[39m, in \u001B[36m_LoggingClientInterceptor.intercept_unary_unary\u001B[39m\u001B[34m(self, continuation, client_call_details, request)\u001B[39m\n\u001B[32m     69\u001B[39m     grpc_request = {\n\u001B[32m     70\u001B[39m         \u001B[33m\"\u001B[39m\u001B[33mpayload\u001B[39m\u001B[33m\"\u001B[39m: request_payload,\n\u001B[32m     71\u001B[39m         \u001B[33m\"\u001B[39m\u001B[33mrequestMethod\u001B[39m\u001B[33m\"\u001B[39m: \u001B[33m\"\u001B[39m\u001B[33mgrpc\u001B[39m\u001B[33m\"\u001B[39m,\n\u001B[32m     72\u001B[39m         \u001B[33m\"\u001B[39m\u001B[33mmetadata\u001B[39m\u001B[33m\"\u001B[39m: \u001B[38;5;28mdict\u001B[39m(request_metadata),\n\u001B[32m     73\u001B[39m     }\n\u001B[32m     74\u001B[39m     _LOGGER.debug(\n\u001B[32m     75\u001B[39m         \u001B[33mf\u001B[39m\u001B[33m\"\u001B[39m\u001B[33mSending request for \u001B[39m\u001B[38;5;132;01m{\u001B[39;00mclient_call_details.method\u001B[38;5;132;01m}\u001B[39;00m\u001B[33m\"\u001B[39m,\n\u001B[32m     76\u001B[39m         extra={\n\u001B[32m   (...)\u001B[39m\u001B[32m     81\u001B[39m         },\n\u001B[32m     82\u001B[39m     )\n\u001B[32m---> \u001B[39m\u001B[32m83\u001B[39m response = \u001B[43mcontinuation\u001B[49m\u001B[43m(\u001B[49m\u001B[43mclient_call_details\u001B[49m\u001B[43m,\u001B[49m\u001B[43m \u001B[49m\u001B[43mrequest\u001B[49m\u001B[43m)\u001B[49m\n\u001B[32m     84\u001B[39m \u001B[38;5;28;01mif\u001B[39;00m logging_enabled:  \u001B[38;5;66;03m# pragma: NO COVER\u001B[39;00m\n\u001B[32m     85\u001B[39m     response_metadata = response.trailing_metadata()\n",
      "\u001B[36mFile \u001B[39m\u001B[32m~/Desktop/clausebit/.venv/lib/python3.13/site-packages/grpc/_interceptor.py:315\u001B[39m, in \u001B[36m_UnaryUnaryMultiCallable._with_call.<locals>.continuation\u001B[39m\u001B[34m(new_details, request)\u001B[39m\n\u001B[32m    306\u001B[39m (\n\u001B[32m    307\u001B[39m     new_method,\n\u001B[32m    308\u001B[39m     new_timeout,\n\u001B[32m   (...)\u001B[39m\u001B[32m    312\u001B[39m     new_compression,\n\u001B[32m    313\u001B[39m ) = _unwrap_client_call_details(new_details, client_call_details)\n\u001B[32m    314\u001B[39m \u001B[38;5;28;01mtry\u001B[39;00m:\n\u001B[32m--> \u001B[39m\u001B[32m315\u001B[39m     response, call = \u001B[38;5;28;43mself\u001B[39;49m\u001B[43m.\u001B[49m\u001B[43m_thunk\u001B[49m\u001B[43m(\u001B[49m\u001B[43mnew_method\u001B[49m\u001B[43m)\u001B[49m\u001B[43m.\u001B[49m\u001B[43mwith_call\u001B[49m\u001B[43m(\u001B[49m\n\u001B[32m    316\u001B[39m \u001B[43m        \u001B[49m\u001B[43mrequest\u001B[49m\u001B[43m,\u001B[49m\n\u001B[32m    317\u001B[39m \u001B[43m        \u001B[49m\u001B[43mtimeout\u001B[49m\u001B[43m=\u001B[49m\u001B[43mnew_timeout\u001B[49m\u001B[43m,\u001B[49m\n\u001B[32m    318\u001B[39m \u001B[43m        \u001B[49m\u001B[43mmetadata\u001B[49m\u001B[43m=\u001B[49m\u001B[43mnew_metadata\u001B[49m\u001B[43m,\u001B[49m\n\u001B[32m    319\u001B[39m \u001B[43m        \u001B[49m\u001B[43mcredentials\u001B[49m\u001B[43m=\u001B[49m\u001B[43mnew_credentials\u001B[49m\u001B[43m,\u001B[49m\n\u001B[32m    320\u001B[39m \u001B[43m        \u001B[49m\u001B[43mwait_for_ready\u001B[49m\u001B[43m=\u001B[49m\u001B[43mnew_wait_for_ready\u001B[49m\u001B[43m,\u001B[49m\n\u001B[32m    321\u001B[39m \u001B[43m        \u001B[49m\u001B[43mcompression\u001B[49m\u001B[43m=\u001B[49m\u001B[43mnew_compression\u001B[49m\u001B[43m,\u001B[49m\n\u001B[32m    322\u001B[39m \u001B[43m    \u001B[49m\u001B[43m)\u001B[49m\n\u001B[32m    323\u001B[39m     \u001B[38;5;28;01mreturn\u001B[39;00m _UnaryOutcome(response, call)\n\u001B[32m    324\u001B[39m \u001B[38;5;28;01mexcept\u001B[39;00m grpc.RpcError \u001B[38;5;28;01mas\u001B[39;00m rpc_error:\n",
      "\u001B[36mFile \u001B[39m\u001B[32m~/Desktop/clausebit/.venv/lib/python3.13/site-packages/grpc/_channel.py:1195\u001B[39m, in \u001B[36m_UnaryUnaryMultiCallable.with_call\u001B[39m\u001B[34m(self, request, timeout, metadata, credentials, wait_for_ready, compression)\u001B[39m\n\u001B[32m   1183\u001B[39m \u001B[38;5;28;01mdef\u001B[39;00m\u001B[38;5;250m \u001B[39m\u001B[34mwith_call\u001B[39m(\n\u001B[32m   1184\u001B[39m     \u001B[38;5;28mself\u001B[39m,\n\u001B[32m   1185\u001B[39m     request: Any,\n\u001B[32m   (...)\u001B[39m\u001B[32m   1190\u001B[39m     compression: Optional[grpc.Compression] = \u001B[38;5;28;01mNone\u001B[39;00m,\n\u001B[32m   1191\u001B[39m ) -> Tuple[Any, grpc.Call]:\n\u001B[32m   1192\u001B[39m     (\n\u001B[32m   1193\u001B[39m         state,\n\u001B[32m   1194\u001B[39m         call,\n\u001B[32m-> \u001B[39m\u001B[32m1195\u001B[39m     ) = \u001B[38;5;28;43mself\u001B[39;49m\u001B[43m.\u001B[49m\u001B[43m_blocking\u001B[49m\u001B[43m(\u001B[49m\n\u001B[32m   1196\u001B[39m \u001B[43m        \u001B[49m\u001B[43mrequest\u001B[49m\u001B[43m,\u001B[49m\u001B[43m \u001B[49m\u001B[43mtimeout\u001B[49m\u001B[43m,\u001B[49m\u001B[43m \u001B[49m\u001B[43mmetadata\u001B[49m\u001B[43m,\u001B[49m\u001B[43m \u001B[49m\u001B[43mcredentials\u001B[49m\u001B[43m,\u001B[49m\u001B[43m \u001B[49m\u001B[43mwait_for_ready\u001B[49m\u001B[43m,\u001B[49m\u001B[43m \u001B[49m\u001B[43mcompression\u001B[49m\n\u001B[32m   1197\u001B[39m \u001B[43m    \u001B[49m\u001B[43m)\u001B[49m\n\u001B[32m   1198\u001B[39m     \u001B[38;5;28;01mreturn\u001B[39;00m _end_unary_response_blocking(state, call, \u001B[38;5;28;01mTrue\u001B[39;00m, \u001B[38;5;28;01mNone\u001B[39;00m)\n",
      "\u001B[36mFile \u001B[39m\u001B[32m~/Desktop/clausebit/.venv/lib/python3.13/site-packages/grpc/_channel.py:1162\u001B[39m, in \u001B[36m_UnaryUnaryMultiCallable._blocking\u001B[39m\u001B[34m(self, request, timeout, metadata, credentials, wait_for_ready, compression)\u001B[39m\n\u001B[32m   1145\u001B[39m state.target = _common.decode(\u001B[38;5;28mself\u001B[39m._target)\n\u001B[32m   1146\u001B[39m call = \u001B[38;5;28mself\u001B[39m._channel.segregated_call(\n\u001B[32m   1147\u001B[39m     cygrpc.PropagationConstants.GRPC_PROPAGATE_DEFAULTS,\n\u001B[32m   1148\u001B[39m     \u001B[38;5;28mself\u001B[39m._method,\n\u001B[32m   (...)\u001B[39m\u001B[32m   1160\u001B[39m     \u001B[38;5;28mself\u001B[39m._registered_call_handle,\n\u001B[32m   1161\u001B[39m )\n\u001B[32m-> \u001B[39m\u001B[32m1162\u001B[39m event = \u001B[43mcall\u001B[49m\u001B[43m.\u001B[49m\u001B[43mnext_event\u001B[49m\u001B[43m(\u001B[49m\u001B[43m)\u001B[49m\n\u001B[32m   1163\u001B[39m _handle_event(event, state, \u001B[38;5;28mself\u001B[39m._response_deserializer)\n\u001B[32m   1164\u001B[39m \u001B[38;5;28;01mreturn\u001B[39;00m state, call\n",
      "\u001B[36mFile \u001B[39m\u001B[32msrc/python/grpcio/grpc/_cython/_cygrpc/channel.pyx.pxi:388\u001B[39m, in \u001B[36mgrpc._cython.cygrpc.SegregatedCall.next_event\u001B[39m\u001B[34m()\u001B[39m\n",
      "\u001B[36mFile \u001B[39m\u001B[32msrc/python/grpcio/grpc/_cython/_cygrpc/channel.pyx.pxi:211\u001B[39m, in \u001B[36mgrpc._cython.cygrpc._next_call_event\u001B[39m\u001B[34m()\u001B[39m\n",
      "\u001B[36mFile \u001B[39m\u001B[32msrc/python/grpcio/grpc/_cython/_cygrpc/channel.pyx.pxi:205\u001B[39m, in \u001B[36mgrpc._cython.cygrpc._next_call_event\u001B[39m\u001B[34m()\u001B[39m\n",
      "\u001B[36mFile \u001B[39m\u001B[32msrc/python/grpcio/grpc/_cython/_cygrpc/completion_queue.pyx.pxi:97\u001B[39m, in \u001B[36mgrpc._cython.cygrpc._latent_event\u001B[39m\u001B[34m()\u001B[39m\n",
      "\u001B[36mFile \u001B[39m\u001B[32msrc/python/grpcio/grpc/_cython/_cygrpc/completion_queue.pyx.pxi:80\u001B[39m, in \u001B[36mgrpc._cython.cygrpc._internal_latent_event\u001B[39m\u001B[34m()\u001B[39m\n",
      "\u001B[36mFile \u001B[39m\u001B[32msrc/python/grpcio/grpc/_cython/_cygrpc/completion_queue.pyx.pxi:61\u001B[39m, in \u001B[36mgrpc._cython.cygrpc._next\u001B[39m\u001B[34m()\u001B[39m\n",
      "\u001B[31mKeyboardInterrupt\u001B[39m: "
     ]
    }
   ],
   "execution_count": 25
  },
  {
   "metadata": {},
   "cell_type": "code",
   "outputs": [],
   "execution_count": null,
   "source": "",
   "id": "77beb431965eada1"
  }
 ],
 "metadata": {
  "kernelspec": {
   "display_name": "Python 3",
   "language": "python",
   "name": "python3"
  },
  "language_info": {
   "codemirror_mode": {
    "name": "ipython",
    "version": 2
   },
   "file_extension": ".py",
   "mimetype": "text/x-python",
   "name": "python",
   "nbconvert_exporter": "python",
   "pygments_lexer": "ipython2",
   "version": "2.7.6"
  }
 },
 "nbformat": 4,
 "nbformat_minor": 5
}
