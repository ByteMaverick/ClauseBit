{
 "cells": [
  {
   "metadata": {},
   "cell_type": "markdown",
   "source": "## Research Team Tools",
   "id": "216b3d59e47ab178"
  },
  {
   "cell_type": "code",
   "id": "initial_id",
   "metadata": {
    "collapsed": true,
    "ExecuteTime": {
     "end_time": "2025-08-01T07:37:48.941553Z",
     "start_time": "2025-08-01T07:37:46.756237Z"
    }
   },
   "source": [
    "\n",
    "# Python Imports\n",
    "from typing import List, Dict\n",
    "\n",
    "# Optimization Imports\n",
    "from concurrent.futures import ThreadPoolExecutor\n",
    "from backend.src.tools.datatracker import get_company_by_url\n",
    "from functools import lru_cache\n",
    "import asyncio\n",
    "\n",
    "# Local imports\n",
    "from backend.src.tools.vector_store import VectorStoreManager\n",
    "from backend.src.tools.grader import Grader\n",
    "\n",
    "\n",
    "from langchain_core.tools import tool\n",
    "\n",
    "\n",
    "# temp\n",
    "import os\n",
    "os.environ[\"LANGCHAIN_TRACING_V2\"] = \"false\"\n",
    "\n",
    "# Cache expensive operations\n",
    "@lru_cache(maxsize=100)\n",
    "def get_cached_db_status(url: str):\n",
    "    \"\"\"Cache database status checks to avoid repeated lookups\"\"\"\n",
    "    return get_company_by_url(url)\n",
    "\n",
    "# Thread pool for I/O operations\n",
    "executor = ThreadPoolExecutor(max_workers=4)\n",
    "\n",
    "def fetch_web_data_to_db_async(url: str):\n",
    "    \"\"\"Non-blocking version of web data fetching\"\"\"\n",
    "\n",
    "    def _fetch():\n",
    "        vectorstore = VectorStoreManager()\n",
    "        loop = asyncio.new_event_loop()\n",
    "        asyncio.set_event_loop(loop)\n",
    "        return loop.run_until_complete(vectorstore.proto_add_final(url))\n",
    "\n",
    "    return executor.submit(_fetch)\n",
    "\n",
    "\n",
    "@tool\n",
    "def retrieve_and_grade(query: str, is_preference_data: bool = False, metadata: Dict[str, str] = None)-> List[Dict]:\n",
    "    \"\"\"Retrieves chunks for a query and grades them for relevance, completeness, and faithfulness.\"\"\"\n",
    "    vectorstore = VectorStoreManager()\n",
    "    grader = Grader()\n",
    "\n",
    "    if is_preference_data:\n",
    "        retrieved_chunks = vectorstore.vectordb_query_filtering(query, metadata)\n",
    "    else:\n",
    "        retrieved_chunks = vectorstore.vectordb_query_chatbot(query = query, metadata_filter = metadata)\n",
    "\n",
    "    # Extract only the page_content to feed into the grader\n",
    "    chunk_texts = [doc.page_content for doc in retrieved_chunks]\n",
    "\n",
    "    # Grade the extracted texts\n",
    "    grade_report = grader.CompositeGrader(chunk_texts, query)\n",
    "\n",
    "\n",
    "\n",
    "    # merge the mean chunk quality score in the chunk document\n",
    "    for chunk in retrieved_chunks:\n",
    "        chunk.metadata[\"retrieval_quality_score\"] = grade_report\n",
    "\n",
    "\n",
    "    return retrieved_chunks\n",
    "\n",
    "\n",
    "@tool\n",
    "def retriever(query: str, ispreferencedata: bool = False, metadata: Dict[str, str] = None) -> List[Dict]:\n",
    "    \"\"\"\n",
    "    🚀 OPTIMIZED: Faster retrieval with caching and limits\n",
    "    \"\"\"\n",
    "    vectorstore = VectorStoreManager()\n",
    "\n",
    "    # 🚀 OPTIMIZATION 3: Limit results for faster processing\n",
    "    if ispreferencedata:\n",
    "        retrieved_chunks = vectorstore.vectordb_query_filtering(query, metadata)\n",
    "    else:\n",
    "        retrieved_chunks = vectorstore.vectordb_query_chatbot(query)\n",
    "\n",
    "    # Limit to top 5 results for faster processing\n",
    "    return retrieved_chunks\n",
    "\n",
    "# Cached status check\n",
    "def check_db(url: str):\n",
    "    return get_cached_db_status(url)\n"
   ],
   "outputs": [
    {
     "name": "stdout",
     "output_type": "stream",
     "text": [
      "Using local credentials.\n",
      "Using local credentials.\n"
     ]
    },
    {
     "name": "stderr",
     "output_type": "stream",
     "text": [
      "/Users/mohammedansari/Desktop/clausebit/.venv/lib/python3.13/site-packages/vertexai/_model_garden/_model_garden_models.py:278: UserWarning: This feature is deprecated as of June 24, 2025 and will be removed on June 24, 2026. For details, see https://cloud.google.com/vertex-ai/generative-ai/docs/deprecations/genai-vertexai-sdk.\n",
      "  warning_logs.show_deprecation_warning()\n"
     ]
    }
   ],
   "execution_count": 1
  },
  {
   "metadata": {},
   "cell_type": "markdown",
   "source": "## State Setup",
   "id": "94fc5964566c7d5d"
  },
  {
   "metadata": {
    "ExecuteTime": {
     "end_time": "2025-08-01T07:37:49.036918Z",
     "start_time": "2025-08-01T07:37:49.017446Z"
    }
   },
   "cell_type": "code",
   "source": [
    "# Multi agent setup imports\n",
    "from langgraph.graph import add_messages\n",
    "from langchain_core.messages import BaseMessage\n",
    "from pydantic import BaseModel\n",
    "\n",
    "# Python Imports\n",
    "from typing import Annotated\n",
    "from typing import List, Optional, Dict, Any\n",
    "\n",
    "\n",
    "\n",
    "class ClauseBitState(BaseModel):\n",
    "    messages: Annotated[List[BaseMessage], add_messages]\n",
    "    user_preferences: Optional[Dict[str, Any]] = None\n",
    "    current_url: Optional[str] = None\n",
    "    current_query: Optional[str] = None\n",
    "\n",
    "\n",
    "\n"
   ],
   "id": "5c04cb696d5314fe",
   "outputs": [],
   "execution_count": 2
  },
  {
   "metadata": {},
   "cell_type": "markdown",
   "source": [
    "## Utilities\n",
    "### Setup for the supervisor node"
   ],
   "id": "924aa338d6aa47f7"
  },
  {
   "metadata": {
    "ExecuteTime": {
     "end_time": "2025-08-01T07:37:49.045292Z",
     "start_time": "2025-08-01T07:37:49.042116Z"
    }
   },
   "cell_type": "code",
   "source": [
    "from typing import TypedDict, Literal\n",
    "from langchain_core.messages import AIMessage\n",
    "from langchain_core.language_models.chat_models import BaseChatModel\n",
    "\n",
    "\n",
    "def make_supervisor_node(llm: BaseChatModel, members: list[str]):\n",
    "    options = [\"FINISH\"] + members\n",
    "\n",
    "    def supervisor_node(state: ClauseBitState) -> str:\n",
    "        if not isinstance(state.messages[-1], HumanMessage):\n",
    "            return \"FINISH\"\n",
    "\n",
    "        # The last question asked\n",
    "        user_question = state.messages[-1].content.lower().strip()\n",
    "\n",
    "        print(\"[Supervisor received message]:\", user_question)\n",
    "\n",
    "         # OPTIMIZATION 5: Fast keyword-based routing (skip LLM for obvious cases)\n",
    "        conversation_keywords = [\n",
    "            \"what was the last question\", \"what did i ask\", \"previous question\",\n",
    "            \"last time\", \"before\", \"earlier\", \"conversation history\"\n",
    "        ]\n",
    "\n",
    "        if any(keyword in user_question for keyword in conversation_keywords):\n",
    "            return \"llm_answer\"\n",
    "\n",
    "\n",
    "\n",
    "        # OPTIMIZATION: Async scraping (non-blocking)\n",
    "        db_status = get_cached_db_status(state.current_url)\n",
    "\n",
    "\n",
    "        if db_status == False:\n",
    "\n",
    "            print(\"🚀 Starting async scraping...\")\n",
    "            # Start scraping in background\n",
    "            fetch_web_data_to_db_async(state.current_url)\n",
    "\n",
    "            # For now, return scraping is in progress\n",
    "            return \"scraping_in_progress\"\n",
    "\n",
    "        if db_status[\"found_data\"] is False:\n",
    "            return  \"llm_answer\"\n",
    "\n",
    "        system_prompt = (\n",
    "            \"You are a supervisor agent managing a conversation with access to two workers: `search` and `llm_answer`.\\n\\n\"\n",
    "            \"• If the user asks a general-purpose or factual question that can be answered by a language model (e.g., 'What are cookies?', 'Is GitHub a known company?'), route to `llm_answer`.\\n\"\n",
    "            \"• If the user asks something that requires information from a specific website's legal documents (e.g., Privacy Policy or Terms of Service), route to `search`.\\n\"\n",
    "        )\n",
    "\n",
    "        class Router(TypedDict):\n",
    "            next: Literal[*options]\n",
    "\n",
    "\n",
    "        recent_messages = state.messages\n",
    "        formatted_messages = []\n",
    "        for msg in recent_messages:\n",
    "            if isinstance(msg, HumanMessage):\n",
    "                formatted_messages.append({\"role\": \"user\", \"content\": msg.content})\n",
    "            elif isinstance(msg, AIMessage):\n",
    "                formatted_messages.append({\"role\": \"assistant\", \"content\": msg.content})\n",
    "\n",
    "        messages = [{\"role\": \"system\", \"content\": system_prompt}] + formatted_messages\n",
    "        response = llm.with_structured_output(Router).invoke(messages)\n",
    "        print(\"[Supervisor routed to]:\", response)\n",
    "\n",
    "        goto = response[\"next\"]\n",
    "        if goto == \"FINISH\":\n",
    "            return \"FINISH\"\n",
    "        if goto not in members and goto != \"FINISH\":\n",
    "            print(f\"[Invalid route '{goto}'], routing to llm_answer\")\n",
    "            return \"llm_answer\"\n",
    "\n",
    "        return goto\n",
    "\n",
    "    return supervisor_node\n",
    "\n"
   ],
   "id": "4e685e7a6b22d0c6",
   "outputs": [],
   "execution_count": 3
  },
  {
   "metadata": {
    "ExecuteTime": {
     "end_time": "2025-08-01T07:37:49.062483Z",
     "start_time": "2025-08-01T07:37:49.052855Z"
    }
   },
   "cell_type": "code",
   "source": [
    "from langchain_google_vertexai import ChatVertexAI\n",
    "from backend.auth.init_vertex import init_vertex_ai\n",
    "from langchain_core.messages import HumanMessage\n",
    "from langgraph.prebuilt import create_react_agent\n",
    "\n",
    "init_vertex_ai()\n",
    "\n",
    "llm = ChatVertexAI(\n",
    "    model=\"gemini-2.5-pro\",\n",
    "    temperature=0.3,  # Lower temperature for faster, more deterministic responses\n",
    "    max_output_tokens=1500  # Reduced from 3000 for faster generation\n",
    ")\n",
    "\n",
    "search_agent = create_react_agent(llm, tools=[retrieve_and_grade])\n",
    "\n",
    "def search_node(state: ClauseBitState) -> ClauseBitState:\n",
    "    \"\"\"Search node with timeout and result limiting\"\"\"\n",
    "    try:\n",
    "        # Add timeout for search operations\n",
    "        result = search_agent.invoke(state)\n",
    "\n",
    "        # Limit response length\n",
    "        content = result[\"messages\"][-1].content\n",
    "        print(f\"Using Serach Node:{content}\")\n",
    "        if len(content) > 2000:  # Truncate very long responses\n",
    "            content = content[:2000] + \"... [truncated for brevity]\"\n",
    "\n",
    "        new_message = AIMessage(content=content, name=\"search\")\n",
    "\n",
    "        return ClauseBitState(\n",
    "            messages=state.messages + [new_message],\n",
    "            user_preferences=state.user_preferences,\n",
    "            current_url=state.current_url,\n",
    "            current_query=state.current_query,\n",
    "\n",
    "        )\n",
    "    except Exception as e:\n",
    "        # Quick fallback on search failure\n",
    "        error_msg = AIMessage(content=f\"Search temporarily unavailable. Error: {str(e)[:100]}\", name=\"search\")\n",
    "        return ClauseBitState(\n",
    "            messages=state.messages + [error_msg],\n",
    "            user_preferences=state.user_preferences,\n",
    "            current_url=state.current_url,\n",
    "            current_query=state.current_query,\n",
    "        )\n",
    "\n",
    "def llm_answer_node(state: ClauseBitState) -> ClauseBitState:\n",
    "    \"\"\" Faster LLM responses with shorter context\"\"\"\n",
    "    current_question =state.messages[-1]\n",
    "    context = state.messages\n",
    "\n",
    "    full_prompt = f\"{context}\\nCurrent question: {current_question}\\n\\nProvide a concise, helpful response under 100 words.\"\n",
    "    print(f\"Using LLM Node:{full_prompt}\")\n",
    "    llm_response = llm.invoke(full_prompt)\n",
    "    response_content = llm_response.content\n",
    "\n",
    "    new_message = AIMessage(content=response_content, name=\"llm_answer\")\n",
    "\n",
    "    return ClauseBitState(\n",
    "        messages=state.messages + [new_message],\n",
    "        user_preferences=state.user_preferences,\n",
    "        current_url=state.current_url,\n",
    "        current_query=state.current_query,\n",
    "    )\n",
    "\n",
    "def scraping_in_progress_node(state: ClauseBitState) -> ClauseBitState:\n",
    "    \"\"\" Handle scraping in progress scenario\"\"\"\n",
    "    msg = AIMessage(\n",
    "        content=\"🔄 I'm currently analyzing this website's documents. This may take a moment. \"\n",
    "                \"Meanwhile, I can answer general questions or you can try your document query again in a few seconds.\",\n",
    "        name=\"scraping_status\"\n",
    "    )\n",
    "\n",
    "    return ClauseBitState(\n",
    "        messages=state.messages + [msg],\n",
    "        user_preferences=state.user_preferences,\n",
    "        current_url=state.current_url,\n",
    "        current_query=state.current_query,\n",
    "    )\n",
    "\n",
    "def error_handler_node(state: ClauseBitState) -> ClauseBitState:\n",
    "    \"\"\"Handle errors and edge cases\"\"\"\n",
    "    if not state.current_url:\n",
    "        error_msg = AIMessage(content=\"No URL provided. Cannot proceed.\")\n",
    "    else:\n",
    "        db_status = get_cached_db_status(state.current_url)\n",
    "        if db_status and db_status.get(\"found_data\") is False:\n",
    "            error_msg = AIMessage(\n",
    "                content=\"I can't answer questions for this company — no useful data was found during scraping.\")\n",
    "        else:\n",
    "            error_msg = AIMessage(content=\"An error occurred while processing your request.\")\n",
    "\n",
    "    return ClauseBitState(\n",
    "        messages=state.messages + [error_msg],\n",
    "        user_preferences=state.user_preferences,\n",
    "        current_url=state.current_url,\n",
    "        current_query=state.current_query,\n",
    "    )\n",
    "\n"
   ],
   "id": "75b20e6e0446ba21",
   "outputs": [
    {
     "name": "stdout",
     "output_type": "stream",
     "text": [
      "Using local credentials.\n"
     ]
    }
   ],
   "execution_count": 4
  },
  {
   "metadata": {
    "ExecuteTime": {
     "end_time": "2025-08-01T07:37:49.074702Z",
     "start_time": "2025-08-01T07:37:49.070529Z"
    }
   },
   "cell_type": "code",
   "source": [
    "from langgraph.graph import StateGraph, END\n",
    "\n",
    "# Create supervisor node\n",
    "research_supervisor_node = make_supervisor_node(llm, [\"search\", \"llm_answer\", \"scraping_in_progress\"])\n",
    "\n",
    "\n",
    "def route_supervisor_decision(state: ClauseBitState):\n",
    "    \"\"\"Route based on supervisor's decision\"\"\"\n",
    "    decision = research_supervisor_node(state)\n",
    "    return decision\n",
    "\n",
    "graph = StateGraph(ClauseBitState)\n",
    "graph.add_node(\"supervisor\", lambda state: state)\n",
    "graph.add_node(\"search\", search_node)\n",
    "graph.add_node(\"llm_answer\", llm_answer_node)\n",
    "graph.add_node(\"scraping_in_progress\", scraping_in_progress_node)\n",
    "graph.add_node(\"error_handler\", error_handler_node)\n",
    "graph.add_node(\"finish\", lambda state: state)\n",
    "\n",
    "graph.set_entry_point(\"supervisor\")\n",
    "\n",
    "graph.add_conditional_edges(\n",
    "    \"supervisor\",\n",
    "    route_supervisor_decision,\n",
    "    {\n",
    "        \"search\": \"search\",\n",
    "        \"llm_answer\": \"llm_answer\",\n",
    "        \"scraping_in_progress\": \"scraping_in_progress\",\n",
    "        \"FINISH\": \"finish\",\n",
    "        \"error\": \"error_handler\"\n",
    "    }\n",
    ")\n",
    "\n",
    "# All nodes go directly to END for faster responses\n",
    "graph.add_edge(\"search\", END)\n",
    "graph.add_edge(\"llm_answer\", END)\n",
    "graph.add_edge(\"scraping_in_progress\", END)\n",
    "graph.add_edge(\"error_handler\", END)\n",
    "graph.add_edge(\"finish\", END)\n",
    "\n",
    "research_graph = graph.compile()"
   ],
   "id": "95dc7d39ac78241f",
   "outputs": [],
   "execution_count": 5
  },
  {
   "metadata": {
    "ExecuteTime": {
     "end_time": "2025-08-01T07:37:49.200286Z",
     "start_time": "2025-08-01T07:37:49.079294Z"
    }
   },
   "cell_type": "code",
   "source": [
    "from IPython.display import Image, display\n",
    "\n",
    "display(Image(research_graph.get_graph().draw_mermaid_png()))"
   ],
   "id": "c0b2995eeab1d70b",
   "outputs": [
    {
     "data": {
      "image/png": "[encoded data removed]",
      "text/plain": [
       "<IPython.core.display.Image object>"
      ]
     },
     "metadata": {},
     "output_type": "display_data"
    }
   ],
   "execution_count": 6
  },
  {
   "metadata": {
    "ExecuteTime": {
     "end_time": "2025-08-01T07:38:01.956895Z",
     "start_time": "2025-08-01T07:38:01.952515Z"
    }
   },
   "cell_type": "code",
   "source": [
    "\n",
    "\n",
    "\n",
    "def chat():\n",
    "    print(\"🚀 ClauseBit (Optimized): Hello! I can help you analyze legal documents quickly.\")\n",
    "    print(\"Type 'quit', 'exit', or 'bye' to end the conversation.\\n\")\n",
    "\n",
    "    url = input(\"🔗 Enter URL to analyze (or press Enter for default GitHub): \").strip()\n",
    "    if not url:\n",
    "        url = \"https://github.com/\"\n",
    "\n",
    "    print(f\"📄 Analyzing: {url}\\n\")\n",
    "\n",
    "    conversation_messages = []\n",
    "\n",
    "    while True:\n",
    "        try:\n",
    "            inp = input(\"👤 You: \").strip()\n",
    "\n",
    "            if inp.lower() in ['quit', 'exit', 'bye', 'stop']:\n",
    "                print(\"🚀 ClauseBit: Goodbye! 👋\")\n",
    "                break\n",
    "\n",
    "            if not inp:\n",
    "                print(\"🚀 ClauseBit: Please enter a question or type 'quit' to exit.\")\n",
    "                continue\n",
    "\n",
    "\n",
    "\n",
    "            user_msg = HumanMessage(content=inp)\n",
    "            conversation_messages.append(user_msg)\n",
    "\n",
    "            state = ClauseBitState(messages=conversation_messages, current_url=url)\n",
    "            result = research_graph.invoke(state)\n",
    "\n",
    "            msgs = result[\"messages\"]\n",
    "            last_ai_messages = [m for m in msgs if isinstance(m, AIMessage)]\n",
    "\n",
    "            if last_ai_messages:\n",
    "                response = last_ai_messages[-1].content\n",
    "\n",
    "                print(f\"🚀 ClauseBit: {response}\")\n",
    "                conversation_messages.append(AIMessage(content=response))\n",
    "            else:\n",
    "                print(\"🚀 ClauseBit: (no response)\")\n",
    "\n",
    "            print()\n",
    "\n",
    "        except KeyboardInterrupt:\n",
    "            print(\"\\n🚀 ClauseBit: Goodbye! 👋\")\n",
    "            break\n",
    "        except Exception as e:\n",
    "            print(f\"🚀 ClauseBit: Sorry, an error occurred: {str(e)}\")\n",
    "            print(\"Please try again or type 'quit' to exit.\\n\")\n"
   ],
   "id": "d56cd5e81de92208",
   "outputs": [],
   "execution_count": 9
  },
  {
   "metadata": {
    "ExecuteTime": {
     "end_time": "2025-08-01T07:39:01.297647Z",
     "start_time": "2025-08-01T07:38:03.320004Z"
    }
   },
   "cell_type": "code",
   "source": "chat()",
   "id": "820aafece41265ef",
   "outputs": [
    {
     "name": "stdout",
     "output_type": "stream",
     "text": [
      "🚀 ClauseBit (Optimized): Hello! I can help you analyze legal documents quickly.\n",
      "Type 'quit', 'exit', or 'bye' to end the conversation.\n",
      "\n",
      "📄 Analyzing: https://github.com/\n",
      "\n",
      "[Supervisor received message]: what are cookies?\n"
     ]
    },
    {
     "name": "stderr",
     "output_type": "stream",
     "text": [
      "/Users/mohammedansari/Desktop/clausebit/.venv/lib/python3.13/site-packages/google/cloud/firestore_v1/base_collection.py:304: UserWarning: Detected filter using positional arguments. Prefer using the 'filter' keyword argument instead.\n",
      "  return query.where(field_path, op_string, value)\n"
     ]
    },
    {
     "name": "stdout",
     "output_type": "stream",
     "text": [
      "[Supervisor routed to]: {'next': 'llm_answer'}\n",
      "Using LLM Node:[HumanMessage(content='What are cookies?', additional_kwargs={}, response_metadata={}, id='29bf1800-68bd-41c4-9610-fb5591c727ec')]\n",
      "Current question: content='What are cookies?' additional_kwargs={} response_metadata={} id='29bf1800-68bd-41c4-9610-fb5591c727ec'\n",
      "\n",
      "Provide a concise, helpful response under 100 words.\n",
      "🚀 ClauseBit: In the context of the internet, cookies are small text files stored on your computer by websites you visit. They act like a memory for the website, allowing it to remember information about you.\n",
      "\n",
      "This is used for things like:\n",
      "*   Keeping you logged in.\n",
      "*   Saving items in your shopping cart.\n",
      "*   Remembering your site preferences (like language or theme).\n",
      "*   Tracking your browsing activity for personalized ads.\n",
      "\n",
      "While often helpful, they are a key reason you see targeted advertising online.\n",
      "\n",
      "[Supervisor received message]: what is github's cookie policy\n"
     ]
    },
    {
     "name": "stderr",
     "output_type": "stream",
     "text": [
      "Key 'additionalProperties' is not supported in schema, ignoring\n"
     ]
    },
    {
     "name": "stdout",
     "output_type": "stream",
     "text": [
      "[Supervisor routed to]: {'next': 'search'}\n",
      "Using local credentials.\n"
     ]
    },
    {
     "name": "stderr",
     "output_type": "stream",
     "text": [
      "/Users/mohammedansari/Desktop/clausebit/.venv/lib/python3.13/site-packages/vertexai/_model_garden/_model_garden_models.py:278: UserWarning: This feature is deprecated as of June 24, 2025 and will be removed on June 24, 2026. For details, see https://cloud.google.com/vertex-ai/generative-ai/docs/deprecations/genai-vertexai-sdk.\n",
      "  warning_logs.show_deprecation_warning()\n"
     ]
    },
    {
     "name": "stdout",
     "output_type": "stream",
     "text": [
      "Using local credentials.\n"
     ]
    },
    {
     "name": "stderr",
     "output_type": "stream",
     "text": [
      "Key 'additionalProperties' is not supported in schema, ignoring\n"
     ]
    },
    {
     "name": "stdout",
     "output_type": "stream",
     "text": [
      "Using Serach Node:Based on the information I found, here's a summary of GitHub's cookie policy:\n",
      "\n",
      "GitHub has a policy of using non-essential cookies on its web pages that are specifically for marketing its products to businesses. These cookies are used for analytics to improve the user experience on these pages and to personalize content and advertisements for potential enterprise customers.\n",
      "\n",
      "It's important to note that this policy applies only to subdomains like `resources.github.com`, where GitHub's enterprise products and services are marketed. The main `github.com` website continues to operate with its original cookie policy.\n",
      "\n",
      "In response to user feedback, GitHub has clarified its stance on privacy and user control. They will honor \"Do Not Track\" (DNT) signals sent by browsers. If a DNT signal is detected, GitHub will not load third-party resources that set these non-essential cookies. Additionally, users have access to settings that allow them to disable these non-essential cookies.\n",
      "🚀 ClauseBit: Based on the information I found, here's a summary of GitHub's cookie policy:\n",
      "\n",
      "GitHub has a policy of using non-essential cookies on its web pages that are specifically for marketing its products to businesses. These cookies are used for analytics to improve the user experience on these pages and to personalize content and advertisements for potential enterprise customers.\n",
      "\n",
      "It's important to note that this policy applies only to subdomains like `resources.github.com`, where GitHub's enterprise products and services are marketed. The main `github.com` website continues to operate with its original cookie policy.\n",
      "\n",
      "In response to user feedback, GitHub has clarified its stance on privacy and user control. They will honor \"Do Not Track\" (DNT) signals sent by browsers. If a DNT signal is detected, GitHub will not load third-party resources that set these non-essential cookies. Additionally, users have access to settings that allow them to disable these non-essential cookies.\n",
      "\n",
      "\n",
      "🚀 ClauseBit: Goodbye! 👋\n"
     ]
    }
   ],
   "execution_count": 10
  },
  {
   "metadata": {
    "ExecuteTime": {
     "end_time": "2025-08-01T07:37:57.394597Z",
     "start_time": "2025-08-01T07:37:57.393230Z"
    }
   },
   "cell_type": "code",
   "source": "",
   "id": "819f348812bcbded",
   "outputs": [],
   "execution_count": null
  }
 ],
 "metadata": {
  "kernelspec": {
   "display_name": "Python 3",
   "language": "python",
   "name": "python3"
  },
  "language_info": {
   "codemirror_mode": {
    "name": "ipython",
    "version": 2
   },
   "file_extension": ".py",
   "mimetype": "text/x-python",
   "name": "python",
   "nbconvert_exporter": "python",
   "pygments_lexer": "ipython2",
   "version": "2.7.6"
  }
 },
 "nbformat": 4,
 "nbformat_minor": 5
}
